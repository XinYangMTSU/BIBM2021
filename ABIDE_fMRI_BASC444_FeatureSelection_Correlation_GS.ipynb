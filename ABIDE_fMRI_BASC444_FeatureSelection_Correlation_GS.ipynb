{
 "cells": [
  {
   "cell_type": "code",
   "execution_count": 37,
   "metadata": {
    "id": "7KZ5UjWwowmF"
   },
   "outputs": [],
   "source": [
    "import warnings\n",
    "warnings.filterwarnings(\"ignore\")"
   ]
  },
  {
   "cell_type": "code",
   "execution_count": 38,
   "metadata": {
    "colab": {
     "base_uri": "https://localhost:8080/"
    },
    "id": "YOSwlnBsG9c0",
    "outputId": "e1196da4-d3c5-4629-98ca-77c58c325b67"
   },
   "outputs": [],
   "source": [
    "#from google.colab import drive\n",
    "#drive.mount('/content/drive')"
   ]
  },
  {
   "cell_type": "code",
   "execution_count": 39,
   "metadata": {
    "id": "baJkCyJeG9c1"
   },
   "outputs": [],
   "source": [
    "#import sys\n",
    "#sys.path.insert(0,'/content/drive/My Drive/AStudyOfASDClassification')"
   ]
  },
  {
   "cell_type": "markdown",
   "metadata": {
    "id": "yzcNYeC5xWfJ"
   },
   "source": []
  },
  {
   "cell_type": "code",
   "execution_count": 40,
   "metadata": {
    "id": "yaYrnodYowmK"
   },
   "outputs": [],
   "source": [
    "from sklearn.metrics import make_scorer\n",
    "from sklearn.metrics import accuracy_score, recall_score\n",
    "scoring = {\n",
    "    'accuracy':    make_scorer(accuracy_score),\n",
    "    'sensitivity': make_scorer(recall_score),\n",
    "    'specificity': make_scorer(recall_score,pos_label=0)\n",
    "}"
   ]
  },
  {
   "cell_type": "code",
   "execution_count": 41,
   "metadata": {
    "id": "4KaMScesowmL"
   },
   "outputs": [],
   "source": [
    "# Logistic Regression\n",
    "import numpy as np\n",
    "from sklearn.linear_model import LogisticRegression\n",
    "\n",
    "lr_model = LogisticRegression()\n",
    "\n",
    "param_grid_lr = [\n",
    "        {\n",
    "         'C' : [0.01,0.1,1,10,100],\n",
    "         'solver' : ['liblinear']\n",
    "        }\n",
    "]"
   ]
  },
  {
   "cell_type": "code",
   "execution_count": 42,
   "metadata": {
    "id": "PNUCpvE8owmL"
   },
   "outputs": [],
   "source": [
    "# Linear SVM\n",
    "\n",
    "from sklearn.svm import LinearSVC\n",
    "lsvm_model = LinearSVC(random_state=0, tol=1e-5)\n",
    "\n",
    "param_grid_lsvm = [\n",
    "        {\n",
    "         'C' : [10,100,300,500]\n",
    "        }\n",
    "]\n"
   ]
  },
  {
   "cell_type": "code",
   "execution_count": 43,
   "metadata": {
    "id": "1kSyhNoIowmM"
   },
   "outputs": [],
   "source": [
    "from sklearn.svm import SVC\n",
    "# Kernel SVM\n",
    "ksvm_model = SVC(probability=True)\n",
    "\n",
    "param_grid_ksvm = [\n",
    "        {'kernel' : ['rbf'],\n",
    "         'C' : [0.01,0.1,1,3]\n",
    "        }\n",
    "]"
   ]
  },
  {
   "cell_type": "markdown",
   "metadata": {
    "id": "laobYyXgX41E"
   },
   "source": [
    "# Load Dataset"
   ]
  },
  {
   "cell_type": "code",
   "execution_count": 9,
   "metadata": {
    "id": "tH3cXwgm2fYM"
   },
   "outputs": [],
   "source": [
    "from numpy import loadtxt\n",
    "y_basc444 = loadtxt('Y.csv', delimiter=' ')"
   ]
  },
  {
   "cell_type": "code",
   "execution_count": 10,
   "metadata": {},
   "outputs": [],
   "source": [
    "import numpy as np\n",
    "time_series_basc444 = np.load('BASC444.npy', allow_pickle=True)"
   ]
  },
  {
   "cell_type": "markdown",
   "metadata": {
    "id": "6L1SWErYowmP"
   },
   "source": [
    "====================================================================\n",
    "## Calculate Pearson and Spearman Connectivity\n",
    "===================================================================="
   ]
  },
  {
   "cell_type": "code",
   "execution_count": 11,
   "metadata": {},
   "outputs": [
    {
     "name": "stdout",
     "output_type": "stream",
     "text": [
      "(871, 444, 444)\n",
      "(871, 444, 444)\n"
     ]
    }
   ],
   "source": [
    "pearson_connectivity = np.zeros((len(time_series_basc444),time_series_basc444[0].shape[1], time_series_basc444[0].shape[1]))\n",
    "spearman_connectivity = np.zeros((len(time_series_basc444),time_series_basc444[0].shape[1], time_series_basc444[0].shape[1]))\n",
    "\n",
    "print(pearson_connectivity.shape)\n",
    "print(spearman_connectivity.shape)"
   ]
  },
  {
   "cell_type": "code",
   "execution_count": 50,
   "metadata": {},
   "outputs": [
    {
     "data": {
      "text/plain": [
       "(444, 196)"
      ]
     },
     "execution_count": 50,
     "metadata": {},
     "output_type": "execute_result"
    }
   ],
   "source": [
    "time_series_basc444[0].T.shape"
   ]
  },
  {
   "cell_type": "code",
   "execution_count": 12,
   "metadata": {},
   "outputs": [],
   "source": [
    "from nilearn.connectome import cov_to_corr\n",
    "import scipy.stats as stats\n",
    "\n",
    "for i in range(len(time_series_basc444)):\n",
    "     cov = np.cov(time_series_basc444[i].T)\n",
    "     pearson_connectivity[i,:,:] = cov_to_corr(cov)\n",
    "     rho, pvalue = stats.spearmanr(time_series_basc444[i])\n",
    "     spearman_connectivity[i,:,:] = rho"
   ]
  },
  {
   "cell_type": "code",
   "execution_count": 13,
   "metadata": {},
   "outputs": [
    {
     "name": "stdout",
     "output_type": "stream",
     "text": [
      "(871, 98346)\n",
      "(871, 98346)\n",
      "(871, 196692)\n"
     ]
    }
   ],
   "source": [
    "pearson_lower = np.zeros((len(time_series_basc444),(444*444-444)//2))\n",
    "spearman_lower = np.zeros((len(time_series_basc444),(444*444-444)//2))\n",
    "combine_lower = np.zeros((len(time_series_basc444),pearson_lower.shape[1]+spearman_lower.shape[1]))\n",
    "print(pearson_lower.shape)\n",
    "print(spearman_lower.shape)\n",
    "print(combine_lower.shape)                         "
   ]
  },
  {
   "cell_type": "code",
   "execution_count": 14,
   "metadata": {},
   "outputs": [],
   "source": [
    "for i in range(pearson_connectivity.shape[0]):\n",
    "    \n",
    "    temp = pearson_connectivity[i,:,:]\n",
    "    v = temp[np.triu_indices(temp.shape[0], k = 1)] \n",
    "    pearson_lower[i,:] = v\n",
    "    \n",
    "    temp = spearman_connectivity[i,:,:]\n",
    "    v = temp[np.triu_indices(temp.shape[0], k = 1)] \n",
    "    spearman_lower[i,:] = v\n",
    "    \n",
    "    combine_lower[i,:] = np.concatenate((pearson_lower[i,:],spearman_lower[i,:]),axis=0)"
   ]
  },
  {
   "cell_type": "code",
   "execution_count": 15,
   "metadata": {},
   "outputs": [
    {
     "name": "stdout",
     "output_type": "stream",
     "text": [
      "True\n",
      "True\n",
      "True\n",
      "False\n",
      "False\n",
      "False\n"
     ]
    }
   ],
   "source": [
    "print(np.isnan(pearson_lower).any())\n",
    "print(np.isnan(spearman_lower).any())\n",
    "print(np.isnan(combine_lower).any())\n",
    "\n",
    "where_are_NaNs = np.isnan(pearson_lower)\n",
    "pearson_lower[where_are_NaNs] = 0\n",
    "\n",
    "where_are_NaNs = np.isnan(spearman_lower)\n",
    "spearman_lower[where_are_NaNs] = 0\n",
    "\n",
    "where_are_NaNs = np.isnan(combine_lower)\n",
    "combine_lower[where_are_NaNs] = 0\n",
    "\n",
    "print(np.isnan(pearson_lower).any())\n",
    "print(np.isnan(spearman_lower).any())\n",
    "print(np.isnan(combine_lower).any())\n"
   ]
  },
  {
   "cell_type": "code",
   "execution_count": 16,
   "metadata": {},
   "outputs": [],
   "source": [
    "pearson_lower_z = np.arctanh(pearson_lower)\n",
    "spearman_lower_z = np.arctanh(spearman_lower)"
   ]
  },
  {
   "cell_type": "markdown",
   "metadata": {},
   "source": [
    "## ================================\n",
    "## 1. Logistic Regression\n",
    "## ================================"
   ]
  },
  {
   "cell_type": "code",
   "execution_count": 37,
   "metadata": {},
   "outputs": [
    {
     "name": "stdout",
     "output_type": "stream",
     "text": [
      "Fitting 5 folds for each of 5 candidates, totalling 25 fits\n"
     ]
    },
    {
     "name": "stderr",
     "output_type": "stream",
     "text": [
      "[Parallel(n_jobs=-1)]: Using backend LokyBackend with 8 concurrent workers.\n",
      "[Parallel(n_jobs=-1)]: Done  25 out of  25 | elapsed:  5.9min finished\n"
     ]
    }
   ],
   "source": [
    "from sklearn.model_selection import GridSearchCV\n",
    "gs_lr = GridSearchCV(lr_model, param_grid_lr, cv = 5, verbose = True, n_jobs=-1)\n",
    "best_lr_train = gs_lr.fit(pearson_lower, y_basc444)"
   ]
  },
  {
   "cell_type": "code",
   "execution_count": 38,
   "metadata": {},
   "outputs": [
    {
     "data": {
      "text/plain": [
       "LogisticRegression(C=0.01, solver='liblinear')"
      ]
     },
     "execution_count": 38,
     "metadata": {},
     "output_type": "execute_result"
    }
   ],
   "source": [
    "best_lr_train.best_estimator_"
   ]
  },
  {
   "cell_type": "markdown",
   "metadata": {},
   "source": [
    "## Without Feature Selection (Logistric Regression)"
   ]
  },
  {
   "cell_type": "code",
   "execution_count": 39,
   "metadata": {},
   "outputs": [
    {
     "name": "stderr",
     "output_type": "stream",
     "text": [
      "[Parallel(n_jobs=-1)]: Using backend LokyBackend with 8 concurrent workers.\n",
      "[Parallel(n_jobs=-1)]: Done  34 tasks      | elapsed: 11.0min\n",
      "[Parallel(n_jobs=-1)]: Done 100 out of 100 | elapsed: 25.3min finished\n",
      "[Parallel(n_jobs=-1)]: Using backend LokyBackend with 8 concurrent workers.\n",
      "[Parallel(n_jobs=-1)]: Done  34 tasks      | elapsed:  8.4min\n"
     ]
    },
    {
     "name": "stdout",
     "output_type": "stream",
     "text": [
      "Time = 46.97749478419622 minutes\n"
     ]
    },
    {
     "name": "stderr",
     "output_type": "stream",
     "text": [
      "[Parallel(n_jobs=-1)]: Done 100 out of 100 | elapsed: 21.6min finished\n"
     ]
    }
   ],
   "source": [
    "## Without Feature Selection\n",
    "\n",
    "from sklearn.pipeline import make_pipeline\n",
    "from sklearn.model_selection import train_test_split\n",
    "from sklearn.feature_selection import SelectFromModel\n",
    "from sklearn.feature_selection import SelectKBest\n",
    "from sklearn.feature_selection import f_classif\n",
    "from sklearn.metrics import confusion_matrix\n",
    "import time    \n",
    "from sklearn.model_selection import cross_validate\n",
    "from sklearn.model_selection import RepeatedStratifiedKFold\n",
    "\n",
    "pipe = make_pipeline( \n",
    "    best_lr_train.best_estimator_\n",
    ")\n",
    "    \n",
    "t = time.time()\n",
    "\n",
    "cv = RepeatedStratifiedKFold(n_splits = 10, n_repeats = 10, random_state = 1)\n",
    "\n",
    "lr_corr_scores_0  = cross_validate(pipe, pearson_lower,  y_basc444, cv = cv, scoring = scoring, return_train_score = True, verbose = True, n_jobs = -1)\n",
    "lr_spear_scores_0 = cross_validate(pipe, spearman_lower, y_basc444, cv = cv, scoring = scoring, return_train_score = True, verbose = True, n_jobs = -1)\n",
    "\n",
    "elapsed = time.time() - t\n",
    "print(\"Time = \" + str(elapsed/60) + \" minutes\")"
   ]
  },
  {
   "cell_type": "code",
   "execution_count": 60,
   "metadata": {},
   "outputs": [
    {
     "name": "stdout",
     "output_type": "stream",
     "text": [
      "Correlation:\n",
      "=================================\n",
      "corr_acc = 0.6967633228840125 std = 0.044273445045771256\n",
      "corr_sen = 0.6324939024390244 std = 0.07214789649992212\n",
      "corr_spe = 0.7520536540240519 std = 0.06553340681871049\n",
      "\n",
      "Spearman:\n",
      "=================================\n",
      "spear_acc = 0.7018181818181819 std = 0.04509101861589183\n",
      "spear_sen = 0.6388780487804877 std = 0.07892562519808748\n",
      "spear_spe = 0.7559111933395006 std = 0.06266196562472093\n"
     ]
    }
   ],
   "source": [
    "import numpy as np\n",
    "\n",
    "lr_corr_acc_0 = np.mean(lr_corr_scores_0['test_accuracy'])\n",
    "lr_corr_acc_std_0 = np.std(lr_corr_scores_0['test_accuracy'])\n",
    "lr_corr_sen_0 = np.mean(lr_corr_scores_0['test_sensitivity'])\n",
    "lr_corr_sen_std_0 = np.std(lr_corr_scores_0['test_sensitivity'])\n",
    "lr_corr_spe_0 = np.mean(lr_corr_scores_0['test_specificity'])\n",
    "lr_corr_spe_std_0 = np.std(lr_corr_scores_0['test_specificity'])\n",
    "    \n",
    "lr_spear_acc_0 = np.mean(lr_spear_scores_0['test_accuracy'])\n",
    "lr_spear_acc_std_0 = np.std(lr_spear_scores_0['test_accuracy'])\n",
    "lr_spear_sen_0 = np.mean(lr_spear_scores_0['test_sensitivity'])\n",
    "lr_spear_sen_std_0 = np.std(lr_spear_scores_0['test_sensitivity'])\n",
    "lr_spear_spe_0 = np.mean(lr_spear_scores_0['test_specificity'])\n",
    "lr_spear_spe_std_0 = np.std(lr_spear_scores_0['test_specificity'])\n",
    "\n",
    "\n",
    "print(\"Correlation:\")\n",
    "print(\"=================================\")\n",
    "print(\"corr_acc = \" + str(lr_corr_acc_0) + \" std = \" + str(lr_corr_acc_std_0))\n",
    "print(\"corr_sen = \" + str(lr_corr_sen_0) + \" std = \" + str(lr_corr_sen_std_0))\n",
    "print(\"corr_spe = \" + str(lr_corr_spe_0) + \" std = \" + str(lr_corr_spe_std_0))\n",
    "\n",
    "print(\"\\nSpearman:\")\n",
    "print(\"=================================\")\n",
    "print(\"spear_acc = \" + str(lr_spear_acc_0) + \" std = \" + str(lr_spear_acc_std_0))\n",
    "print(\"spear_sen = \" + str(lr_spear_sen_0) + \" std = \" + str(lr_spear_sen_std_0))\n",
    "print(\"spear_spe = \" + str(lr_spear_spe_0) + \" std = \" + str(lr_spear_spe_std_0))\n"
   ]
  },
  {
   "cell_type": "code",
   "execution_count": 40,
   "metadata": {},
   "outputs": [
    {
     "data": {
      "text/plain": [
       "array([0.73863636, 0.79310345, 0.66666667, 0.65517241, 0.67816092,\n",
       "       0.68965517, 0.79310345, 0.72413793, 0.65517241, 0.64367816,\n",
       "       0.76136364, 0.5862069 , 0.75862069, 0.64367816, 0.67816092,\n",
       "       0.70114943, 0.70114943, 0.77011494, 0.66666667, 0.66666667,\n",
       "       0.64772727, 0.67816092, 0.67816092, 0.67816092, 0.77011494,\n",
       "       0.75862069, 0.59770115, 0.68965517, 0.68965517, 0.67816092,\n",
       "       0.76136364, 0.70114943, 0.70114943, 0.66666667, 0.67816092,\n",
       "       0.63218391, 0.77011494, 0.70114943, 0.74712644, 0.66666667,\n",
       "       0.69318182, 0.64367816, 0.67816092, 0.71264368, 0.74712644,\n",
       "       0.67816092, 0.73563218, 0.77011494, 0.66666667, 0.75862069,\n",
       "       0.77272727, 0.71264368, 0.68965517, 0.64367816, 0.67816092,\n",
       "       0.71264368, 0.66666667, 0.72413793, 0.64367816, 0.68965517,\n",
       "       0.70454545, 0.73563218, 0.72413793, 0.64367816, 0.75862069,\n",
       "       0.66666667, 0.67816092, 0.67816092, 0.73563218, 0.5862069 ,\n",
       "       0.64772727, 0.59770115, 0.72413793, 0.70114943, 0.66666667,\n",
       "       0.66666667, 0.68965517, 0.71264368, 0.72413793, 0.72413793,\n",
       "       0.69318182, 0.66666667, 0.70114943, 0.66666667, 0.75862069,\n",
       "       0.72413793, 0.72413793, 0.65517241, 0.72413793, 0.73563218,\n",
       "       0.73863636, 0.71264368, 0.64367816, 0.66666667, 0.66666667,\n",
       "       0.68965517, 0.72413793, 0.68965517, 0.68965517, 0.75862069])"
      ]
     },
     "execution_count": 40,
     "metadata": {},
     "output_type": "execute_result"
    }
   ],
   "source": [
    "lr_corr_scores_0['test_accuracy']"
   ]
  },
  {
   "cell_type": "code",
   "execution_count": 41,
   "metadata": {},
   "outputs": [
    {
     "data": {
      "text/plain": [
       "array([0.6097561 , 0.80487805, 0.56097561, 0.6       , 0.65      ,\n",
       "       0.65      , 0.7       , 0.6       , 0.6       , 0.525     ,\n",
       "       0.70731707, 0.51219512, 0.75609756, 0.525     , 0.55      ,\n",
       "       0.7       , 0.6       , 0.7       , 0.65      , 0.55      ,\n",
       "       0.6097561 , 0.65853659, 0.68292683, 0.625     , 0.7       ,\n",
       "       0.75      , 0.6       , 0.525     , 0.45      , 0.65      ,\n",
       "       0.63414634, 0.6097561 , 0.58536585, 0.55      , 0.65      ,\n",
       "       0.675     , 0.75      , 0.625     , 0.7       , 0.6       ,\n",
       "       0.63414634, 0.6097561 , 0.63414634, 0.525     , 0.625     ,\n",
       "       0.525     , 0.75      , 0.725     , 0.575     , 0.75      ,\n",
       "       0.65853659, 0.65853659, 0.65853659, 0.5       , 0.6       ,\n",
       "       0.675     , 0.6       , 0.725     , 0.525     , 0.675     ,\n",
       "       0.65853659, 0.73170732, 0.63414634, 0.55      , 0.725     ,\n",
       "       0.6       , 0.625     , 0.575     , 0.75      , 0.6       ,\n",
       "       0.53658537, 0.48780488, 0.70731707, 0.625     , 0.675     ,\n",
       "       0.625     , 0.475     , 0.775     , 0.675     , 0.6       ,\n",
       "       0.58536585, 0.58536585, 0.68292683, 0.7       , 0.65      ,\n",
       "       0.725     , 0.575     , 0.575     , 0.725     , 0.725     ,\n",
       "       0.56097561, 0.63414634, 0.63414634, 0.625     , 0.625     ,\n",
       "       0.625     , 0.7       , 0.625     , 0.65      , 0.6       ])"
      ]
     },
     "execution_count": 41,
     "metadata": {},
     "output_type": "execute_result"
    }
   ],
   "source": [
    "lr_corr_scores_0['test_sensitivity']"
   ]
  },
  {
   "cell_type": "code",
   "execution_count": 42,
   "metadata": {},
   "outputs": [
    {
     "data": {
      "text/plain": [
       "array([0.85106383, 0.7826087 , 0.76086957, 0.70212766, 0.70212766,\n",
       "       0.72340426, 0.87234043, 0.82978723, 0.70212766, 0.74468085,\n",
       "       0.80851064, 0.65217391, 0.76086957, 0.74468085, 0.78723404,\n",
       "       0.70212766, 0.78723404, 0.82978723, 0.68085106, 0.76595745,\n",
       "       0.68085106, 0.69565217, 0.67391304, 0.72340426, 0.82978723,\n",
       "       0.76595745, 0.59574468, 0.82978723, 0.89361702, 0.70212766,\n",
       "       0.87234043, 0.7826087 , 0.80434783, 0.76595745, 0.70212766,\n",
       "       0.59574468, 0.78723404, 0.76595745, 0.78723404, 0.72340426,\n",
       "       0.74468085, 0.67391304, 0.7173913 , 0.87234043, 0.85106383,\n",
       "       0.80851064, 0.72340426, 0.80851064, 0.74468085, 0.76595745,\n",
       "       0.87234043, 0.76086957, 0.7173913 , 0.76595745, 0.74468085,\n",
       "       0.74468085, 0.72340426, 0.72340426, 0.74468085, 0.70212766,\n",
       "       0.74468085, 0.73913043, 0.80434783, 0.72340426, 0.78723404,\n",
       "       0.72340426, 0.72340426, 0.76595745, 0.72340426, 0.57446809,\n",
       "       0.74468085, 0.69565217, 0.73913043, 0.76595745, 0.65957447,\n",
       "       0.70212766, 0.87234043, 0.65957447, 0.76595745, 0.82978723,\n",
       "       0.78723404, 0.73913043, 0.7173913 , 0.63829787, 0.85106383,\n",
       "       0.72340426, 0.85106383, 0.72340426, 0.72340426, 0.74468085,\n",
       "       0.89361702, 0.7826087 , 0.65217391, 0.70212766, 0.70212766,\n",
       "       0.74468085, 0.74468085, 0.74468085, 0.72340426, 0.89361702])"
      ]
     },
     "execution_count": 42,
     "metadata": {},
     "output_type": "execute_result"
    }
   ],
   "source": [
    "lr_corr_scores_0['test_specificity']"
   ]
  },
  {
   "cell_type": "code",
   "execution_count": 43,
   "metadata": {},
   "outputs": [
    {
     "data": {
      "text/plain": [
       "array([0.71590909, 0.77011494, 0.68965517, 0.65517241, 0.65517241,\n",
       "       0.71264368, 0.7816092 , 0.67816092, 0.67816092, 0.64367816,\n",
       "       0.76136364, 0.6091954 , 0.8045977 , 0.65517241, 0.68965517,\n",
       "       0.66666667, 0.68965517, 0.79310345, 0.74712644, 0.65517241,\n",
       "       0.64772727, 0.71264368, 0.71264368, 0.68965517, 0.7816092 ,\n",
       "       0.73563218, 0.6091954 , 0.68965517, 0.66666667, 0.71264368,\n",
       "       0.76136364, 0.72413793, 0.70114943, 0.65517241, 0.70114943,\n",
       "       0.65517241, 0.75862069, 0.70114943, 0.72413793, 0.68965517,\n",
       "       0.69318182, 0.64367816, 0.68965517, 0.70114943, 0.73563218,\n",
       "       0.67816092, 0.75862069, 0.72413793, 0.68965517, 0.81609195,\n",
       "       0.75      , 0.73563218, 0.67816092, 0.62068966, 0.68965517,\n",
       "       0.73563218, 0.67816092, 0.74712644, 0.71264368, 0.64367816,\n",
       "       0.71590909, 0.73563218, 0.67816092, 0.64367816, 0.77011494,\n",
       "       0.66666667, 0.68965517, 0.65517241, 0.73563218, 0.62068966,\n",
       "       0.65909091, 0.62068966, 0.71264368, 0.72413793, 0.66666667,\n",
       "       0.67816092, 0.70114943, 0.68965517, 0.77011494, 0.71264368,\n",
       "       0.69318182, 0.66666667, 0.70114943, 0.67816092, 0.79310345,\n",
       "       0.70114943, 0.73563218, 0.67816092, 0.72413793, 0.70114943,\n",
       "       0.78409091, 0.72413793, 0.65517241, 0.65517241, 0.63218391,\n",
       "       0.72413793, 0.74712644, 0.68965517, 0.70114943, 0.74712644])"
      ]
     },
     "execution_count": 43,
     "metadata": {},
     "output_type": "execute_result"
    }
   ],
   "source": [
    "lr_spear_scores_0['test_accuracy']"
   ]
  },
  {
   "cell_type": "code",
   "execution_count": 44,
   "metadata": {},
   "outputs": [
    {
     "data": {
      "text/plain": [
       "array([0.58536585, 0.80487805, 0.56097561, 0.55      , 0.55      ,\n",
       "       0.675     , 0.725     , 0.525     , 0.6       , 0.55      ,\n",
       "       0.75609756, 0.51219512, 0.82926829, 0.55      , 0.55      ,\n",
       "       0.725     , 0.625     , 0.725     , 0.675     , 0.525     ,\n",
       "       0.63414634, 0.70731707, 0.65853659, 0.625     , 0.725     ,\n",
       "       0.75      , 0.6       , 0.55      , 0.425     , 0.725     ,\n",
       "       0.65853659, 0.65853659, 0.58536585, 0.525     , 0.65      ,\n",
       "       0.7       , 0.725     , 0.6       , 0.65      , 0.625     ,\n",
       "       0.68292683, 0.56097561, 0.65853659, 0.525     , 0.625     ,\n",
       "       0.525     , 0.775     , 0.625     , 0.65      , 0.8       ,\n",
       "       0.65853659, 0.68292683, 0.65853659, 0.525     , 0.6       ,\n",
       "       0.7       , 0.625     , 0.725     , 0.6       , 0.6       ,\n",
       "       0.65853659, 0.73170732, 0.56097561, 0.55      , 0.725     ,\n",
       "       0.65      , 0.625     , 0.575     , 0.75      , 0.6       ,\n",
       "       0.51219512, 0.53658537, 0.68292683, 0.625     , 0.7       ,\n",
       "       0.65      , 0.475     , 0.75      , 0.725     , 0.575     ,\n",
       "       0.6097561 , 0.58536585, 0.73170732, 0.7       , 0.725     ,\n",
       "       0.7       , 0.6       , 0.55      , 0.7       , 0.675     ,\n",
       "       0.68292683, 0.65853659, 0.68292683, 0.625     , 0.55      ,\n",
       "       0.675     , 0.725     , 0.625     , 0.675     , 0.575     ])"
      ]
     },
     "execution_count": 44,
     "metadata": {},
     "output_type": "execute_result"
    }
   ],
   "source": [
    "lr_spear_scores_0['test_sensitivity']"
   ]
  },
  {
   "cell_type": "code",
   "execution_count": 45,
   "metadata": {},
   "outputs": [
    {
     "data": {
      "text/plain": [
       "array([0.82978723, 0.73913043, 0.80434783, 0.74468085, 0.74468085,\n",
       "       0.74468085, 0.82978723, 0.80851064, 0.74468085, 0.72340426,\n",
       "       0.76595745, 0.69565217, 0.7826087 , 0.74468085, 0.80851064,\n",
       "       0.61702128, 0.74468085, 0.85106383, 0.80851064, 0.76595745,\n",
       "       0.65957447, 0.7173913 , 0.76086957, 0.74468085, 0.82978723,\n",
       "       0.72340426, 0.61702128, 0.80851064, 0.87234043, 0.70212766,\n",
       "       0.85106383, 0.7826087 , 0.80434783, 0.76595745, 0.74468085,\n",
       "       0.61702128, 0.78723404, 0.78723404, 0.78723404, 0.74468085,\n",
       "       0.70212766, 0.7173913 , 0.7173913 , 0.85106383, 0.82978723,\n",
       "       0.80851064, 0.74468085, 0.80851064, 0.72340426, 0.82978723,\n",
       "       0.82978723, 0.7826087 , 0.69565217, 0.70212766, 0.76595745,\n",
       "       0.76595745, 0.72340426, 0.76595745, 0.80851064, 0.68085106,\n",
       "       0.76595745, 0.73913043, 0.7826087 , 0.72340426, 0.80851064,\n",
       "       0.68085106, 0.74468085, 0.72340426, 0.72340426, 0.63829787,\n",
       "       0.78723404, 0.69565217, 0.73913043, 0.80851064, 0.63829787,\n",
       "       0.70212766, 0.89361702, 0.63829787, 0.80851064, 0.82978723,\n",
       "       0.76595745, 0.73913043, 0.67391304, 0.65957447, 0.85106383,\n",
       "       0.70212766, 0.85106383, 0.78723404, 0.74468085, 0.72340426,\n",
       "       0.87234043, 0.7826087 , 0.63043478, 0.68085106, 0.70212766,\n",
       "       0.76595745, 0.76595745, 0.74468085, 0.72340426, 0.89361702])"
      ]
     },
     "execution_count": 45,
     "metadata": {},
     "output_type": "execute_result"
    }
   ],
   "source": [
    "lr_spear_scores_0['test_specificity']"
   ]
  },
  {
   "cell_type": "markdown",
   "metadata": {},
   "source": [
    "## Feature Selection Select from Model (Logistic Regression)"
   ]
  },
  {
   "cell_type": "code",
   "execution_count": 46,
   "metadata": {},
   "outputs": [
    {
     "name": "stderr",
     "output_type": "stream",
     "text": [
      "[Parallel(n_jobs=-1)]: Using backend LokyBackend with 8 concurrent workers.\n",
      "[Parallel(n_jobs=-1)]: Done  34 tasks      | elapsed: 11.0min\n",
      "[Parallel(n_jobs=-1)]: Done 100 out of 100 | elapsed: 22.8min finished\n",
      "[Parallel(n_jobs=-1)]: Using backend LokyBackend with 8 concurrent workers.\n",
      "[Parallel(n_jobs=-1)]: Done  34 tasks      | elapsed:  7.6min\n"
     ]
    },
    {
     "name": "stdout",
     "output_type": "stream",
     "text": [
      "Time = 41.74854173262914 minutes\n"
     ]
    },
    {
     "name": "stderr",
     "output_type": "stream",
     "text": [
      "[Parallel(n_jobs=-1)]: Done 100 out of 100 | elapsed: 19.0min finished\n"
     ]
    }
   ],
   "source": [
    "## Feature Selection\n",
    "\n",
    "from sklearn.pipeline import make_pipeline\n",
    "from sklearn.model_selection import train_test_split\n",
    "from sklearn.feature_selection import SelectFromModel\n",
    "from sklearn.feature_selection import SelectKBest\n",
    "from sklearn.feature_selection import f_classif\n",
    "from sklearn.metrics import confusion_matrix\n",
    "import time    \n",
    "from sklearn.model_selection import cross_validate\n",
    "from sklearn.model_selection import RepeatedStratifiedKFold\n",
    "\n",
    "pipe = make_pipeline( \n",
    "    SelectFromModel(best_lr_train.best_estimator_),\n",
    "    best_lr_train.best_estimator_\n",
    ")\n",
    "    \n",
    "t = time.time()\n",
    "\n",
    "cv = RepeatedStratifiedKFold(n_splits = 10, n_repeats = 10, random_state = 1)\n",
    "\n",
    "lr_corr_scores  = cross_validate(pipe, pearson_lower,  y_basc444, cv = cv, scoring = scoring, return_train_score = True, verbose = True, n_jobs = -1)\n",
    "lr_spear_scores = cross_validate(pipe, spearman_lower, y_basc444, cv = cv, scoring = scoring, return_train_score = True, verbose = True, n_jobs = -1)\n",
    "\n",
    "elapsed = time.time() - t\n",
    "print(\"Time = \" + str(elapsed/60) + \" minutes\")"
   ]
  },
  {
   "cell_type": "code",
   "execution_count": 61,
   "metadata": {},
   "outputs": [
    {
     "name": "stdout",
     "output_type": "stream",
     "text": [
      "Correlation:\n",
      "=================================\n",
      "corr_acc = 0.6957301462904912 std = 0.043468536703426965\n",
      "corr_sen = 0.6332134146341464 std = 0.06918184526418936\n",
      "corr_spe = 0.7494819611470861 std = 0.06598254021834118\n",
      "\n",
      "Spearman:\n",
      "=================================\n",
      "spear_acc = 0.7025 std = 0.04378095210516275\n",
      "spear_sen = 0.6396341463414634 std = 0.07660822829484257\n",
      "spear_spe = 0.7565587419056431 std = 0.0627504938627806\n"
     ]
    }
   ],
   "source": [
    "import numpy as np\n",
    "\n",
    "lr_corr_acc = np.mean(lr_corr_scores['test_accuracy'])\n",
    "lr_corr_acc_std = np.std(lr_corr_scores['test_accuracy'])\n",
    "lr_corr_sen = np.mean(lr_corr_scores['test_sensitivity'])\n",
    "lr_corr_sen_std = np.std(lr_corr_scores['test_sensitivity'])\n",
    "lr_corr_spe = np.mean(lr_corr_scores['test_specificity'])\n",
    "lr_corr_spe_std = np.std(lr_corr_scores['test_specificity'])\n",
    "    \n",
    "lr_spear_acc = np.mean(lr_spear_scores['test_accuracy'])\n",
    "lr_spear_acc_std = np.std(lr_spear_scores['test_accuracy'])\n",
    "lr_spear_sen = np.mean(lr_spear_scores['test_sensitivity'])\n",
    "lr_spear_sen_std = np.std(lr_spear_scores['test_sensitivity'])\n",
    "lr_spear_spe = np.mean(lr_spear_scores['test_specificity'])\n",
    "lr_spear_spe_std = np.std(lr_spear_scores['test_specificity'])\n",
    "\n",
    "\n",
    "print(\"Correlation:\")\n",
    "print(\"=================================\")\n",
    "print(\"corr_acc = \" + str(lr_corr_acc) + \" std = \" + str(lr_corr_acc_std))\n",
    "print(\"corr_sen = \" + str(lr_corr_sen) + \" std = \" + str(lr_corr_sen_std))\n",
    "print(\"corr_spe = \" + str(lr_corr_spe) + \" std = \" + str(lr_corr_spe_std))\n",
    "\n",
    "print(\"\\nSpearman:\")\n",
    "print(\"=================================\")\n",
    "print(\"spear_acc = \" + str(lr_spear_acc) + \" std = \" + str(lr_spear_acc_std))\n",
    "print(\"spear_sen = \" + str(lr_spear_sen) + \" std = \" + str(lr_spear_sen_std))\n",
    "print(\"spear_spe = \" + str(lr_spear_spe) + \" std = \" + str(lr_spear_spe_std))\n"
   ]
  },
  {
   "cell_type": "code",
   "execution_count": 47,
   "metadata": {},
   "outputs": [
    {
     "data": {
      "text/plain": [
       "array([0.73863636, 0.7816092 , 0.66666667, 0.64367816, 0.67816092,\n",
       "       0.68965517, 0.8045977 , 0.71264368, 0.66666667, 0.62068966,\n",
       "       0.76136364, 0.6091954 , 0.74712644, 0.65517241, 0.67816092,\n",
       "       0.66666667, 0.70114943, 0.7816092 , 0.68965517, 0.65517241,\n",
       "       0.63636364, 0.66666667, 0.67816092, 0.67816092, 0.75862069,\n",
       "       0.75862069, 0.59770115, 0.66666667, 0.67816092, 0.68965517,\n",
       "       0.76136364, 0.70114943, 0.70114943, 0.65517241, 0.68965517,\n",
       "       0.63218391, 0.77011494, 0.70114943, 0.74712644, 0.66666667,\n",
       "       0.68181818, 0.65517241, 0.68965517, 0.71264368, 0.74712644,\n",
       "       0.67816092, 0.72413793, 0.75862069, 0.65517241, 0.74712644,\n",
       "       0.76136364, 0.72413793, 0.67816092, 0.64367816, 0.71264368,\n",
       "       0.70114943, 0.66666667, 0.72413793, 0.66666667, 0.68965517,\n",
       "       0.70454545, 0.73563218, 0.72413793, 0.64367816, 0.75862069,\n",
       "       0.67816092, 0.67816092, 0.68965517, 0.73563218, 0.5862069 ,\n",
       "       0.64772727, 0.6091954 , 0.71264368, 0.71264368, 0.66666667,\n",
       "       0.67816092, 0.70114943, 0.70114943, 0.71264368, 0.72413793,\n",
       "       0.70454545, 0.65517241, 0.70114943, 0.65517241, 0.7816092 ,\n",
       "       0.70114943, 0.73563218, 0.66666667, 0.71264368, 0.72413793,\n",
       "       0.75      , 0.70114943, 0.64367816, 0.65517241, 0.66666667,\n",
       "       0.68965517, 0.72413793, 0.66666667, 0.68965517, 0.74712644])"
      ]
     },
     "execution_count": 47,
     "metadata": {},
     "output_type": "execute_result"
    }
   ],
   "source": [
    "lr_corr_scores['test_accuracy']"
   ]
  },
  {
   "cell_type": "code",
   "execution_count": 48,
   "metadata": {},
   "outputs": [
    {
     "data": {
      "text/plain": [
       "array([0.6097561 , 0.7804878 , 0.56097561, 0.575     , 0.65      ,\n",
       "       0.65      , 0.725     , 0.575     , 0.6       , 0.525     ,\n",
       "       0.70731707, 0.56097561, 0.75609756, 0.525     , 0.55      ,\n",
       "       0.7       , 0.6       , 0.725     , 0.65      , 0.55      ,\n",
       "       0.6097561 , 0.63414634, 0.68292683, 0.625     , 0.7       ,\n",
       "       0.725     , 0.6       , 0.525     , 0.425     , 0.65      ,\n",
       "       0.65853659, 0.6097561 , 0.58536585, 0.55      , 0.65      ,\n",
       "       0.675     , 0.75      , 0.625     , 0.7       , 0.6       ,\n",
       "       0.6097561 , 0.63414634, 0.65853659, 0.525     , 0.625     ,\n",
       "       0.525     , 0.75      , 0.725     , 0.575     , 0.725     ,\n",
       "       0.65853659, 0.68292683, 0.63414634, 0.5       , 0.625     ,\n",
       "       0.675     , 0.6       , 0.725     , 0.575     , 0.675     ,\n",
       "       0.65853659, 0.73170732, 0.63414634, 0.55      , 0.725     ,\n",
       "       0.6       , 0.625     , 0.6       , 0.75      , 0.6       ,\n",
       "       0.53658537, 0.51219512, 0.68292683, 0.625     , 0.675     ,\n",
       "       0.625     , 0.5       , 0.775     , 0.65      , 0.6       ,\n",
       "       0.6097561 , 0.58536585, 0.70731707, 0.7       , 0.7       ,\n",
       "       0.7       , 0.575     , 0.575     , 0.7       , 0.7       ,\n",
       "       0.58536585, 0.63414634, 0.63414634, 0.625     , 0.625     ,\n",
       "       0.625     , 0.7       , 0.6       , 0.625     , 0.6       ])"
      ]
     },
     "execution_count": 48,
     "metadata": {},
     "output_type": "execute_result"
    }
   ],
   "source": [
    "lr_corr_scores['test_sensitivity']"
   ]
  },
  {
   "cell_type": "code",
   "execution_count": 49,
   "metadata": {},
   "outputs": [
    {
     "data": {
      "text/plain": [
       "array([0.85106383, 0.7826087 , 0.76086957, 0.70212766, 0.70212766,\n",
       "       0.72340426, 0.87234043, 0.82978723, 0.72340426, 0.70212766,\n",
       "       0.80851064, 0.65217391, 0.73913043, 0.76595745, 0.78723404,\n",
       "       0.63829787, 0.78723404, 0.82978723, 0.72340426, 0.74468085,\n",
       "       0.65957447, 0.69565217, 0.67391304, 0.72340426, 0.80851064,\n",
       "       0.78723404, 0.59574468, 0.78723404, 0.89361702, 0.72340426,\n",
       "       0.85106383, 0.7826087 , 0.80434783, 0.74468085, 0.72340426,\n",
       "       0.59574468, 0.78723404, 0.76595745, 0.78723404, 0.72340426,\n",
       "       0.74468085, 0.67391304, 0.7173913 , 0.87234043, 0.85106383,\n",
       "       0.80851064, 0.70212766, 0.78723404, 0.72340426, 0.76595745,\n",
       "       0.85106383, 0.76086957, 0.7173913 , 0.76595745, 0.78723404,\n",
       "       0.72340426, 0.72340426, 0.72340426, 0.74468085, 0.70212766,\n",
       "       0.74468085, 0.73913043, 0.80434783, 0.72340426, 0.78723404,\n",
       "       0.74468085, 0.72340426, 0.76595745, 0.72340426, 0.57446809,\n",
       "       0.74468085, 0.69565217, 0.73913043, 0.78723404, 0.65957447,\n",
       "       0.72340426, 0.87234043, 0.63829787, 0.76595745, 0.82978723,\n",
       "       0.78723404, 0.7173913 , 0.69565217, 0.61702128, 0.85106383,\n",
       "       0.70212766, 0.87234043, 0.74468085, 0.72340426, 0.74468085,\n",
       "       0.89361702, 0.76086957, 0.65217391, 0.68085106, 0.70212766,\n",
       "       0.74468085, 0.74468085, 0.72340426, 0.74468085, 0.87234043])"
      ]
     },
     "execution_count": 49,
     "metadata": {},
     "output_type": "execute_result"
    }
   ],
   "source": [
    "lr_corr_scores['test_specificity']"
   ]
  },
  {
   "cell_type": "code",
   "execution_count": 50,
   "metadata": {},
   "outputs": [
    {
     "data": {
      "text/plain": [
       "array([0.73863636, 0.75862069, 0.68965517, 0.65517241, 0.65517241,\n",
       "       0.70114943, 0.79310345, 0.67816092, 0.67816092, 0.64367816,\n",
       "       0.76136364, 0.63218391, 0.7816092 , 0.66666667, 0.68965517,\n",
       "       0.63218391, 0.70114943, 0.77011494, 0.73563218, 0.64367816,\n",
       "       0.64772727, 0.70114943, 0.71264368, 0.68965517, 0.77011494,\n",
       "       0.77011494, 0.62068966, 0.68965517, 0.66666667, 0.71264368,\n",
       "       0.78409091, 0.71264368, 0.68965517, 0.66666667, 0.70114943,\n",
       "       0.64367816, 0.77011494, 0.71264368, 0.73563218, 0.68965517,\n",
       "       0.70454545, 0.65517241, 0.71264368, 0.68965517, 0.73563218,\n",
       "       0.67816092, 0.74712644, 0.73563218, 0.70114943, 0.8045977 ,\n",
       "       0.77272727, 0.74712644, 0.67816092, 0.6091954 , 0.71264368,\n",
       "       0.72413793, 0.67816092, 0.74712644, 0.72413793, 0.64367816,\n",
       "       0.71590909, 0.72413793, 0.67816092, 0.65517241, 0.75862069,\n",
       "       0.66666667, 0.67816092, 0.67816092, 0.73563218, 0.63218391,\n",
       "       0.65909091, 0.62068966, 0.71264368, 0.72413793, 0.66666667,\n",
       "       0.67816092, 0.70114943, 0.70114943, 0.77011494, 0.71264368,\n",
       "       0.70454545, 0.65517241, 0.70114943, 0.67816092, 0.7816092 ,\n",
       "       0.71264368, 0.73563218, 0.68965517, 0.70114943, 0.68965517,\n",
       "       0.76136364, 0.72413793, 0.65517241, 0.65517241, 0.63218391,\n",
       "       0.71264368, 0.75862069, 0.68965517, 0.70114943, 0.74712644])"
      ]
     },
     "execution_count": 50,
     "metadata": {},
     "output_type": "execute_result"
    }
   ],
   "source": [
    "lr_spear_scores['test_accuracy']"
   ]
  },
  {
   "cell_type": "code",
   "execution_count": 51,
   "metadata": {},
   "outputs": [
    {
     "data": {
      "text/plain": [
       "array([0.6097561 , 0.7804878 , 0.56097561, 0.55      , 0.575     ,\n",
       "       0.675     , 0.75      , 0.525     , 0.625     , 0.55      ,\n",
       "       0.73170732, 0.53658537, 0.80487805, 0.55      , 0.55      ,\n",
       "       0.65      , 0.625     , 0.7       , 0.675     , 0.525     ,\n",
       "       0.65853659, 0.68292683, 0.65853659, 0.625     , 0.725     ,\n",
       "       0.75      , 0.6       , 0.55      , 0.425     , 0.725     ,\n",
       "       0.70731707, 0.63414634, 0.56097561, 0.55      , 0.65      ,\n",
       "       0.7       , 0.775     , 0.625     , 0.65      , 0.625     ,\n",
       "       0.68292683, 0.58536585, 0.68292683, 0.5       , 0.625     ,\n",
       "       0.525     , 0.75      , 0.65      , 0.675     , 0.8       ,\n",
       "       0.68292683, 0.68292683, 0.65853659, 0.525     , 0.625     ,\n",
       "       0.675     , 0.625     , 0.725     , 0.65      , 0.6       ,\n",
       "       0.65853659, 0.73170732, 0.56097561, 0.55      , 0.7       ,\n",
       "       0.65      , 0.6       , 0.6       , 0.75      , 0.625     ,\n",
       "       0.51219512, 0.51219512, 0.68292683, 0.625     , 0.7       ,\n",
       "       0.65      , 0.475     , 0.775     , 0.725     , 0.575     ,\n",
       "       0.63414634, 0.56097561, 0.73170732, 0.725     , 0.725     ,\n",
       "       0.675     , 0.6       , 0.575     , 0.675     , 0.65      ,\n",
       "       0.63414634, 0.65853659, 0.68292683, 0.625     , 0.55      ,\n",
       "       0.65      , 0.725     , 0.625     , 0.675     , 0.575     ])"
      ]
     },
     "execution_count": 51,
     "metadata": {},
     "output_type": "execute_result"
    }
   ],
   "source": [
    "lr_spear_scores['test_sensitivity']"
   ]
  },
  {
   "cell_type": "code",
   "execution_count": 63,
   "metadata": {},
   "outputs": [
    {
     "data": {
      "text/plain": [
       "array([0.85106383, 0.73913043, 0.80434783, 0.74468085, 0.72340426,\n",
       "       0.72340426, 0.82978723, 0.80851064, 0.72340426, 0.72340426,\n",
       "       0.78723404, 0.7173913 , 0.76086957, 0.76595745, 0.80851064,\n",
       "       0.61702128, 0.76595745, 0.82978723, 0.78723404, 0.74468085,\n",
       "       0.63829787, 0.7173913 , 0.76086957, 0.74468085, 0.80851064,\n",
       "       0.78723404, 0.63829787, 0.80851064, 0.87234043, 0.70212766,\n",
       "       0.85106383, 0.7826087 , 0.80434783, 0.76595745, 0.74468085,\n",
       "       0.59574468, 0.76595745, 0.78723404, 0.80851064, 0.74468085,\n",
       "       0.72340426, 0.7173913 , 0.73913043, 0.85106383, 0.82978723,\n",
       "       0.80851064, 0.74468085, 0.80851064, 0.72340426, 0.80851064,\n",
       "       0.85106383, 0.80434783, 0.69565217, 0.68085106, 0.78723404,\n",
       "       0.76595745, 0.72340426, 0.76595745, 0.78723404, 0.68085106,\n",
       "       0.76595745, 0.7173913 , 0.7826087 , 0.74468085, 0.80851064,\n",
       "       0.68085106, 0.74468085, 0.74468085, 0.72340426, 0.63829787,\n",
       "       0.78723404, 0.7173913 , 0.73913043, 0.80851064, 0.63829787,\n",
       "       0.70212766, 0.89361702, 0.63829787, 0.80851064, 0.82978723,\n",
       "       0.76595745, 0.73913043, 0.67391304, 0.63829787, 0.82978723,\n",
       "       0.74468085, 0.85106383, 0.78723404, 0.72340426, 0.72340426,\n",
       "       0.87234043, 0.7826087 , 0.63043478, 0.68085106, 0.70212766,\n",
       "       0.76595745, 0.78723404, 0.74468085, 0.72340426, 0.89361702])"
      ]
     },
     "execution_count": 63,
     "metadata": {},
     "output_type": "execute_result"
    }
   ],
   "source": [
    "lr_spear_scores['test_specificity']"
   ]
  },
  {
   "cell_type": "markdown",
   "metadata": {},
   "source": [
    "## Feature Selection Recursive Feature Elimination. (Logistric Regression)"
   ]
  },
  {
   "cell_type": "code",
   "execution_count": 35,
   "metadata": {},
   "outputs": [
    {
     "name": "stderr",
     "output_type": "stream",
     "text": [
      "[Parallel(n_jobs=-1)]: Using backend LokyBackend with 8 concurrent workers.\n",
      "[Parallel(n_jobs=-1)]: Done  34 tasks      | elapsed: 50.7min\n",
      "[Parallel(n_jobs=-1)]: Done 100 out of 100 | elapsed: 120.2min finished\n",
      "[Parallel(n_jobs=-1)]: Using backend LokyBackend with 8 concurrent workers.\n",
      "[Parallel(n_jobs=-1)]: Done  34 tasks      | elapsed: 43.9min\n"
     ]
    },
    {
     "name": "stdout",
     "output_type": "stream",
     "text": [
      "Time = 665.0803770184517 minutes\n"
     ]
    },
    {
     "name": "stderr",
     "output_type": "stream",
     "text": [
      "[Parallel(n_jobs=-1)]: Done 100 out of 100 | elapsed: 544.9min finished\n"
     ]
    }
   ],
   "source": [
    "from sklearn.feature_selection import RFE\n",
    "from sklearn.pipeline import make_pipeline\n",
    "from sklearn.model_selection import train_test_split\n",
    "from sklearn.metrics import confusion_matrix\n",
    "import time    \n",
    "from sklearn.model_selection import cross_validate\n",
    "from sklearn.model_selection import RepeatedStratifiedKFold\n",
    "\n",
    "pipe_lr_rfe = make_pipeline( \n",
    "    RFE(best_lr_train.best_estimator_, step = 0.1),\n",
    "    best_lr_train.best_estimator_\n",
    ")\n",
    "    \n",
    "t = time.time()\n",
    "\n",
    "cv = RepeatedStratifiedKFold(n_splits = 10, n_repeats = 10, random_state = 1)\n",
    "\n",
    "lr_corr_scores_1  = cross_validate(pipe_lr_rfe, pearson_lower,  y_basc444, cv = cv, scoring = scoring, return_train_score = True, verbose = True, n_jobs = -1)\n",
    "lr_spear_scores_1 = cross_validate(pipe_lr_rfe, spearman_lower, y_basc444, cv = cv, scoring = scoring, return_train_score = True, verbose = True, n_jobs = -1)\n",
    "\n",
    "elapsed = time.time() - t\n",
    "print(\"Time = \" + str(elapsed/60) + \" minutes\")"
   ]
  },
  {
   "cell_type": "code",
   "execution_count": 36,
   "metadata": {},
   "outputs": [
    {
     "name": "stdout",
     "output_type": "stream",
     "text": [
      "Correlation:\n",
      "=================================\n",
      "corr_acc = 0.6982588819226752 std = 0.045055856609241204\n",
      "corr_sen = 0.6339756097560976 std = 0.07279711933164881\n",
      "corr_spe = 0.7535476410730806 std = 0.06499710386863451\n",
      "\n",
      "Spearman:\n",
      "=================================\n",
      "spear_acc = 0.7021577847439918 std = 0.04367019227305481\n",
      "spear_sen = 0.6389024390243903 std = 0.07618565101502371\n",
      "spear_spe = 0.756554116558742 std = 0.06177039714643876\n"
     ]
    }
   ],
   "source": [
    "import numpy as np\n",
    "\n",
    "lr_corr_acc_1 = np.mean(lr_corr_scores_1['test_accuracy'])\n",
    "lr_corr_acc_std_1 = np.std(lr_corr_scores_1['test_accuracy'])\n",
    "lr_corr_sen_1 = np.mean(lr_corr_scores_1['test_sensitivity'])\n",
    "lr_corr_sen_std_1 = np.std(lr_corr_scores_1['test_sensitivity'])\n",
    "lr_corr_spe_1 = np.mean(lr_corr_scores_1['test_specificity'])\n",
    "lr_corr_spe_std_1 = np.std(lr_corr_scores_1['test_specificity'])\n",
    "    \n",
    "lr_spear_acc_1 = np.mean(lr_spear_scores_1['test_accuracy'])\n",
    "lr_spear_acc_std_1 = np.std(lr_spear_scores_1['test_accuracy'])\n",
    "lr_spear_sen_1 = np.mean(lr_spear_scores_1['test_sensitivity'])\n",
    "lr_spear_sen_std_1 = np.std(lr_spear_scores_1['test_sensitivity'])\n",
    "lr_spear_spe_1 = np.mean(lr_spear_scores_1['test_specificity'])\n",
    "lr_spear_spe_std_1 = np.std(lr_spear_scores_1['test_specificity'])\n",
    "\n",
    "\n",
    "print(\"Correlation:\")\n",
    "print(\"=================================\")\n",
    "print(\"corr_acc = \" + str(lr_corr_acc_1) + \" std = \" + str(lr_corr_acc_std_1))\n",
    "print(\"corr_sen = \" + str(lr_corr_sen_1) + \" std = \" + str(lr_corr_sen_std_1))\n",
    "print(\"corr_spe = \" + str(lr_corr_spe_1) + \" std = \" + str(lr_corr_spe_std_1))\n",
    "\n",
    "print(\"\\nSpearman:\")\n",
    "print(\"=================================\")\n",
    "print(\"spear_acc = \" + str(lr_spear_acc_1) + \" std = \" + str(lr_spear_acc_std_1))\n",
    "print(\"spear_sen = \" + str(lr_spear_sen_1) + \" std = \" + str(lr_spear_sen_std_1))\n",
    "print(\"spear_spe = \" + str(lr_spear_spe_1) + \" std = \" + str(lr_spear_spe_std_1))\n"
   ]
  },
  {
   "cell_type": "markdown",
   "metadata": {
    "id": "6ZBbcRPLowmQ"
   },
   "source": [
    "=========================================================\n",
    "# Linear SVM\n",
    "========================================================="
   ]
  },
  {
   "cell_type": "code",
   "execution_count": 27,
   "metadata": {
    "id": "QOGJDOsOTUlS"
   },
   "outputs": [
    {
     "name": "stdout",
     "output_type": "stream",
     "text": [
      "Fitting 5 folds for each of 4 candidates, totalling 20 fits\n"
     ]
    },
    {
     "name": "stderr",
     "output_type": "stream",
     "text": [
      "[Parallel(n_jobs=-1)]: Using backend LokyBackend with 8 concurrent workers.\n",
      "[Parallel(n_jobs=-1)]: Done  20 out of  20 | elapsed: 32.9min finished\n"
     ]
    }
   ],
   "source": [
    "from sklearn.model_selection import GridSearchCV\n",
    "gs_lsvm = GridSearchCV(lsvm_model, param_grid_lsvm, cv = 5, verbose = True, n_jobs = -1)\n",
    "best_lsvm_train = gs_lsvm.fit(pearson_lower, y_basc444)"
   ]
  },
  {
   "cell_type": "code",
   "execution_count": 31,
   "metadata": {},
   "outputs": [
    {
     "data": {
      "text/plain": [
       "LinearSVC(C=10, random_state=0, tol=1e-05)"
      ]
     },
     "execution_count": 31,
     "metadata": {},
     "output_type": "execute_result"
    }
   ],
   "source": [
    "best_lsvm_train.best_estimator_"
   ]
  },
  {
   "cell_type": "markdown",
   "metadata": {},
   "source": [
    "## Without Feature Selection (Linear SVM)"
   ]
  },
  {
   "cell_type": "code",
   "execution_count": 53,
   "metadata": {},
   "outputs": [
    {
     "name": "stderr",
     "output_type": "stream",
     "text": [
      "[Parallel(n_jobs=-1)]: Using backend LokyBackend with 8 concurrent workers.\n",
      "[Parallel(n_jobs=-1)]: Done  34 tasks      | elapsed: 58.1min\n",
      "[Parallel(n_jobs=-1)]: Done 100 out of 100 | elapsed: 135.2min finished\n",
      "[Parallel(n_jobs=-1)]: Using backend LokyBackend with 8 concurrent workers.\n",
      "[Parallel(n_jobs=-1)]: Done  34 tasks      | elapsed: 46.2min\n"
     ]
    },
    {
     "name": "stdout",
     "output_type": "stream",
     "text": [
      "Time = 260.49739653666813 minutes\n"
     ]
    },
    {
     "name": "stderr",
     "output_type": "stream",
     "text": [
      "[Parallel(n_jobs=-1)]: Done 100 out of 100 | elapsed: 125.3min finished\n"
     ]
    }
   ],
   "source": [
    "## Without Feature Selection\n",
    "\n",
    "from sklearn.pipeline import make_pipeline\n",
    "from sklearn.model_selection import train_test_split\n",
    "from sklearn.feature_selection import SelectFromModel\n",
    "from sklearn.feature_selection import SelectKBest\n",
    "from sklearn.feature_selection import f_classif\n",
    "from sklearn.metrics import confusion_matrix\n",
    "import time    \n",
    "from sklearn.model_selection import cross_validate\n",
    "from sklearn.model_selection import RepeatedStratifiedKFold\n",
    "    \n",
    "pipe = make_pipeline( \n",
    "    LinearSVC(C=10, random_state=0, tol=1e-05)\n",
    ")\n",
    "    \n",
    "t = time.time()\n",
    "\n",
    "cv = RepeatedStratifiedKFold(n_splits = 10, n_repeats = 10, random_state = 1)\n",
    "\n",
    "lsvm_corr_scores_0  = cross_validate(pipe, pearson_lower,  y_basc444, cv = cv, scoring = scoring, return_train_score = True, verbose = True, n_jobs = -1)\n",
    "lsvm_spear_scores_0 = cross_validate(pipe, spearman_lower, y_basc444, cv = cv, scoring = scoring, return_train_score = True, verbose = True, n_jobs = -1)\n",
    "\n",
    "elapsed = time.time() - t\n",
    "print(\"Time = \" + str(elapsed/60) + \" minutes\")"
   ]
  },
  {
   "cell_type": "code",
   "execution_count": 62,
   "metadata": {},
   "outputs": [
    {
     "name": "stdout",
     "output_type": "stream",
     "text": [
      "Correlation:\n",
      "=================================\n",
      "corr_acc = 0.6911428944618601 std = 0.04374094333553315\n",
      "corr_sen = 0.6404146341463414 std = 0.0720541884127271\n",
      "corr_spe = 0.7347317298797411 std = 0.06329751305962833\n",
      "\n",
      "Spearman:\n",
      "=================================\n",
      "spear_acc = 0.7027468652037618 std = 0.046037581572157614\n",
      "spear_sen = 0.6530365853658537 std = 0.07370939832576778\n",
      "spear_spe = 0.7454209065679928 std = 0.06908710832570167\n"
     ]
    }
   ],
   "source": [
    "import numpy as np\n",
    "\n",
    "lsvm_corr_acc_0 = np.mean(lsvm_corr_scores_0['test_accuracy'])\n",
    "lsvm_corr_acc_std_0 = np.std(lsvm_corr_scores_0['test_accuracy'])\n",
    "lsvm_corr_sen_0 = np.mean(lsvm_corr_scores_0['test_sensitivity'])\n",
    "lsvm_corr_sen_std_0 = np.std(lsvm_corr_scores_0['test_sensitivity'])\n",
    "lsvm_corr_spe_0 = np.mean(lsvm_corr_scores_0['test_specificity'])\n",
    "lsvm_corr_spe_std_0 = np.std(lsvm_corr_scores_0['test_specificity'])\n",
    "    \n",
    "lsvm_spear_acc_0 = np.mean(lsvm_spear_scores_0['test_accuracy'])\n",
    "lsvm_spear_acc_std_0 = np.std(lsvm_spear_scores_0['test_accuracy'])\n",
    "lsvm_spear_sen_0 = np.mean(lsvm_spear_scores_0['test_sensitivity'])\n",
    "lsvm_spear_sen_std_0 = np.std(lsvm_spear_scores_0['test_sensitivity'])\n",
    "lsvm_spear_spe_0 = np.mean(lsvm_spear_scores_0['test_specificity'])\n",
    "lsvm_spear_spe_std_0 = np.std(lsvm_spear_scores_0['test_specificity'])\n",
    "\n",
    "\n",
    "print(\"Correlation:\")\n",
    "print(\"=================================\")\n",
    "print(\"corr_acc = \" + str(lsvm_corr_acc_0) + \" std = \" + str(lsvm_corr_acc_std_0))\n",
    "print(\"corr_sen = \" + str(lsvm_corr_sen_0) + \" std = \" + str(lsvm_corr_sen_std_0))\n",
    "print(\"corr_spe = \" + str(lsvm_corr_spe_0) + \" std = \" + str(lsvm_corr_spe_std_0))\n",
    "\n",
    "print(\"\\nSpearman:\")\n",
    "print(\"=================================\")\n",
    "print(\"spear_acc = \" + str(lsvm_spear_acc_0) + \" std = \" + str(lsvm_spear_acc_std_0))\n",
    "print(\"spear_sen = \" + str(lsvm_spear_sen_0) + \" std = \" + str(lsvm_spear_sen_std_0))\n",
    "print(\"spear_spe = \" + str(lsvm_spear_spe_0) + \" std = \" + str(lsvm_spear_spe_std_0))\n"
   ]
  },
  {
   "cell_type": "code",
   "execution_count": 54,
   "metadata": {},
   "outputs": [
    {
     "data": {
      "text/plain": [
       "array([0.72727273, 0.79310345, 0.63218391, 0.67816092, 0.64367816,\n",
       "       0.67816092, 0.77011494, 0.71264368, 0.70114943, 0.65517241,\n",
       "       0.70454545, 0.6091954 , 0.72413793, 0.64367816, 0.68965517,\n",
       "       0.66666667, 0.68965517, 0.7816092 , 0.66666667, 0.63218391,\n",
       "       0.67045455, 0.70114943, 0.65517241, 0.67816092, 0.73563218,\n",
       "       0.72413793, 0.6091954 , 0.67816092, 0.67816092, 0.68965517,\n",
       "       0.73863636, 0.68965517, 0.71264368, 0.65517241, 0.65517241,\n",
       "       0.65517241, 0.77011494, 0.72413793, 0.72413793, 0.66666667,\n",
       "       0.67045455, 0.63218391, 0.65517241, 0.71264368, 0.73563218,\n",
       "       0.64367816, 0.72413793, 0.75862069, 0.70114943, 0.77011494,\n",
       "       0.75      , 0.71264368, 0.70114943, 0.59770115, 0.66666667,\n",
       "       0.68965517, 0.70114943, 0.71264368, 0.67816092, 0.73563218,\n",
       "       0.72727273, 0.66666667, 0.70114943, 0.66666667, 0.71264368,\n",
       "       0.65517241, 0.65517241, 0.68965517, 0.75862069, 0.59770115,\n",
       "       0.65909091, 0.59770115, 0.73563218, 0.65517241, 0.66666667,\n",
       "       0.70114943, 0.67816092, 0.67816092, 0.71264368, 0.74712644,\n",
       "       0.70454545, 0.67816092, 0.68965517, 0.64367816, 0.79310345,\n",
       "       0.72413793, 0.73563218, 0.63218391, 0.74712644, 0.71264368,\n",
       "       0.70454545, 0.70114943, 0.70114943, 0.66666667, 0.6091954 ,\n",
       "       0.66666667, 0.71264368, 0.62068966, 0.74712644, 0.70114943])"
      ]
     },
     "execution_count": 54,
     "metadata": {},
     "output_type": "execute_result"
    }
   ],
   "source": [
    "lsvm_corr_scores_0['test_accuracy']"
   ]
  },
  {
   "cell_type": "code",
   "execution_count": 55,
   "metadata": {},
   "outputs": [
    {
     "data": {
      "text/plain": [
       "array([0.6097561 , 0.80487805, 0.56097561, 0.625     , 0.6       ,\n",
       "       0.65      , 0.775     , 0.675     , 0.65      , 0.575     ,\n",
       "       0.68292683, 0.53658537, 0.75609756, 0.55      , 0.55      ,\n",
       "       0.675     , 0.575     , 0.725     , 0.65      , 0.5       ,\n",
       "       0.6097561 , 0.63414634, 0.65853659, 0.675     , 0.675     ,\n",
       "       0.725     , 0.575     , 0.575     , 0.45      , 0.65      ,\n",
       "       0.65853659, 0.68292683, 0.63414634, 0.6       , 0.625     ,\n",
       "       0.725     , 0.7       , 0.65      , 0.725     , 0.6       ,\n",
       "       0.63414634, 0.6097561 , 0.65853659, 0.55      , 0.6       ,\n",
       "       0.5       , 0.775     , 0.75      , 0.6       , 0.725     ,\n",
       "       0.65853659, 0.65853659, 0.68292683, 0.45      , 0.6       ,\n",
       "       0.675     , 0.6       , 0.7       , 0.6       , 0.75      ,\n",
       "       0.70731707, 0.68292683, 0.63414634, 0.65      , 0.725     ,\n",
       "       0.6       , 0.525     , 0.575     , 0.775     , 0.625     ,\n",
       "       0.53658537, 0.53658537, 0.73170732, 0.575     , 0.725     ,\n",
       "       0.65      , 0.525     , 0.7       , 0.7       , 0.65      ,\n",
       "       0.6097561 , 0.6097561 , 0.68292683, 0.675     , 0.725     ,\n",
       "       0.675     , 0.575     , 0.6       , 0.725     , 0.725     ,\n",
       "       0.56097561, 0.63414634, 0.68292683, 0.625     , 0.6       ,\n",
       "       0.625     , 0.725     , 0.6       , 0.675     , 0.55      ])"
      ]
     },
     "execution_count": 55,
     "metadata": {},
     "output_type": "execute_result"
    }
   ],
   "source": [
    "lsvm_corr_scores_0['test_sensitivity']"
   ]
  },
  {
   "cell_type": "code",
   "execution_count": 56,
   "metadata": {},
   "outputs": [
    {
     "data": {
      "text/plain": [
       "array([0.82978723, 0.7826087 , 0.69565217, 0.72340426, 0.68085106,\n",
       "       0.70212766, 0.76595745, 0.74468085, 0.74468085, 0.72340426,\n",
       "       0.72340426, 0.67391304, 0.69565217, 0.72340426, 0.80851064,\n",
       "       0.65957447, 0.78723404, 0.82978723, 0.68085106, 0.74468085,\n",
       "       0.72340426, 0.76086957, 0.65217391, 0.68085106, 0.78723404,\n",
       "       0.72340426, 0.63829787, 0.76595745, 0.87234043, 0.72340426,\n",
       "       0.80851064, 0.69565217, 0.7826087 , 0.70212766, 0.68085106,\n",
       "       0.59574468, 0.82978723, 0.78723404, 0.72340426, 0.72340426,\n",
       "       0.70212766, 0.65217391, 0.65217391, 0.85106383, 0.85106383,\n",
       "       0.76595745, 0.68085106, 0.76595745, 0.78723404, 0.80851064,\n",
       "       0.82978723, 0.76086957, 0.7173913 , 0.72340426, 0.72340426,\n",
       "       0.70212766, 0.78723404, 0.72340426, 0.74468085, 0.72340426,\n",
       "       0.74468085, 0.65217391, 0.76086957, 0.68085106, 0.70212766,\n",
       "       0.70212766, 0.76595745, 0.78723404, 0.74468085, 0.57446809,\n",
       "       0.76595745, 0.65217391, 0.73913043, 0.72340426, 0.61702128,\n",
       "       0.74468085, 0.80851064, 0.65957447, 0.72340426, 0.82978723,\n",
       "       0.78723404, 0.73913043, 0.69565217, 0.61702128, 0.85106383,\n",
       "       0.76595745, 0.87234043, 0.65957447, 0.76595745, 0.70212766,\n",
       "       0.82978723, 0.76086957, 0.7173913 , 0.70212766, 0.61702128,\n",
       "       0.70212766, 0.70212766, 0.63829787, 0.80851064, 0.82978723])"
      ]
     },
     "execution_count": 56,
     "metadata": {},
     "output_type": "execute_result"
    }
   ],
   "source": [
    "lsvm_corr_scores_0['test_specificity']"
   ]
  },
  {
   "cell_type": "code",
   "execution_count": 57,
   "metadata": {},
   "outputs": [
    {
     "data": {
      "text/plain": [
       "array([0.70454545, 0.77011494, 0.68965517, 0.71264368, 0.63218391,\n",
       "       0.70114943, 0.77011494, 0.68965517, 0.73563218, 0.65517241,\n",
       "       0.71590909, 0.66666667, 0.75862069, 0.67816092, 0.68965517,\n",
       "       0.62068966, 0.66666667, 0.81609195, 0.72413793, 0.67816092,\n",
       "       0.64772727, 0.68965517, 0.71264368, 0.66666667, 0.77011494,\n",
       "       0.72413793, 0.63218391, 0.73563218, 0.66666667, 0.72413793,\n",
       "       0.77272727, 0.70114943, 0.71264368, 0.71264368, 0.67816092,\n",
       "       0.64367816, 0.79310345, 0.72413793, 0.75862069, 0.70114943,\n",
       "       0.68181818, 0.63218391, 0.66666667, 0.71264368, 0.72413793,\n",
       "       0.66666667, 0.75862069, 0.72413793, 0.72413793, 0.8045977 ,\n",
       "       0.73863636, 0.68965517, 0.74712644, 0.6091954 , 0.68965517,\n",
       "       0.64367816, 0.72413793, 0.73563218, 0.73563218, 0.71264368,\n",
       "       0.71590909, 0.71264368, 0.67816092, 0.63218391, 0.72413793,\n",
       "       0.67816092, 0.68965517, 0.63218391, 0.75862069, 0.6091954 ,\n",
       "       0.65909091, 0.62068966, 0.75862069, 0.71264368, 0.64367816,\n",
       "       0.71264368, 0.65517241, 0.66666667, 0.73563218, 0.73563218,\n",
       "       0.70454545, 0.64367816, 0.68965517, 0.68965517, 0.7816092 ,\n",
       "       0.71264368, 0.75862069, 0.68965517, 0.74712644, 0.73563218,\n",
       "       0.76136364, 0.73563218, 0.67816092, 0.62068966, 0.63218391,\n",
       "       0.71264368, 0.77011494, 0.65517241, 0.73563218, 0.72413793])"
      ]
     },
     "execution_count": 57,
     "metadata": {},
     "output_type": "execute_result"
    }
   ],
   "source": [
    "lsvm_spear_scores_0['test_accuracy']"
   ]
  },
  {
   "cell_type": "code",
   "execution_count": 58,
   "metadata": {},
   "outputs": [
    {
     "data": {
      "text/plain": [
       "array([0.6097561 , 0.82926829, 0.58536585, 0.625     , 0.575     ,\n",
       "       0.675     , 0.775     , 0.6       , 0.7       , 0.55      ,\n",
       "       0.70731707, 0.58536585, 0.82926829, 0.6       , 0.55      ,\n",
       "       0.65      , 0.6       , 0.75      , 0.625     , 0.575     ,\n",
       "       0.65853659, 0.63414634, 0.65853659, 0.625     , 0.675     ,\n",
       "       0.7       , 0.65      , 0.575     , 0.475     , 0.725     ,\n",
       "       0.70731707, 0.68292683, 0.63414634, 0.625     , 0.6       ,\n",
       "       0.675     , 0.725     , 0.65      , 0.725     , 0.625     ,\n",
       "       0.68292683, 0.53658537, 0.68292683, 0.55      , 0.625     ,\n",
       "       0.55      , 0.8       , 0.675     , 0.725     , 0.75      ,\n",
       "       0.63414634, 0.65853659, 0.73170732, 0.475     , 0.65      ,\n",
       "       0.675     , 0.65      , 0.7       , 0.625     , 0.7       ,\n",
       "       0.68292683, 0.75609756, 0.56097561, 0.6       , 0.7       ,\n",
       "       0.675     , 0.6       , 0.55      , 0.75      , 0.6       ,\n",
       "       0.53658537, 0.58536585, 0.73170732, 0.6       , 0.7       ,\n",
       "       0.65      , 0.475     , 0.725     , 0.725     , 0.625     ,\n",
       "       0.6097561 , 0.56097561, 0.70731707, 0.8       , 0.7       ,\n",
       "       0.7       , 0.6       , 0.625     , 0.725     , 0.725     ,\n",
       "       0.65853659, 0.68292683, 0.73170732, 0.6       , 0.6       ,\n",
       "       0.65      , 0.775     , 0.65      , 0.7       , 0.575     ])"
      ]
     },
     "execution_count": 58,
     "metadata": {},
     "output_type": "execute_result"
    }
   ],
   "source": [
    "lsvm_spear_scores_0['test_sensitivity']"
   ]
  },
  {
   "cell_type": "code",
   "execution_count": 59,
   "metadata": {},
   "outputs": [
    {
     "data": {
      "text/plain": [
       "array([0.78723404, 0.7173913 , 0.7826087 , 0.78723404, 0.68085106,\n",
       "       0.72340426, 0.76595745, 0.76595745, 0.76595745, 0.74468085,\n",
       "       0.72340426, 0.73913043, 0.69565217, 0.74468085, 0.80851064,\n",
       "       0.59574468, 0.72340426, 0.87234043, 0.80851064, 0.76595745,\n",
       "       0.63829787, 0.73913043, 0.76086957, 0.70212766, 0.85106383,\n",
       "       0.74468085, 0.61702128, 0.87234043, 0.82978723, 0.72340426,\n",
       "       0.82978723, 0.7173913 , 0.7826087 , 0.78723404, 0.74468085,\n",
       "       0.61702128, 0.85106383, 0.78723404, 0.78723404, 0.76595745,\n",
       "       0.68085106, 0.7173913 , 0.65217391, 0.85106383, 0.80851064,\n",
       "       0.76595745, 0.72340426, 0.76595745, 0.72340426, 0.85106383,\n",
       "       0.82978723, 0.7173913 , 0.76086957, 0.72340426, 0.72340426,\n",
       "       0.61702128, 0.78723404, 0.76595745, 0.82978723, 0.72340426,\n",
       "       0.74468085, 0.67391304, 0.7826087 , 0.65957447, 0.74468085,\n",
       "       0.68085106, 0.76595745, 0.70212766, 0.76595745, 0.61702128,\n",
       "       0.76595745, 0.65217391, 0.7826087 , 0.80851064, 0.59574468,\n",
       "       0.76595745, 0.80851064, 0.61702128, 0.74468085, 0.82978723,\n",
       "       0.78723404, 0.7173913 , 0.67391304, 0.59574468, 0.85106383,\n",
       "       0.72340426, 0.89361702, 0.74468085, 0.76595745, 0.74468085,\n",
       "       0.85106383, 0.7826087 , 0.63043478, 0.63829787, 0.65957447,\n",
       "       0.76595745, 0.76595745, 0.65957447, 0.76595745, 0.85106383])"
      ]
     },
     "execution_count": 59,
     "metadata": {},
     "output_type": "execute_result"
    }
   ],
   "source": [
    "lsvm_spear_scores_0['test_specificity']"
   ]
  },
  {
   "cell_type": "markdown",
   "metadata": {},
   "source": [
    "## Feature Selection select from model (linear SVM)"
   ]
  },
  {
   "cell_type": "code",
   "execution_count": 28,
   "metadata": {},
   "outputs": [
    {
     "name": "stderr",
     "output_type": "stream",
     "text": [
      "[Parallel(n_jobs=-1)]: Using backend LokyBackend with 8 concurrent workers.\n",
      "[Parallel(n_jobs=-1)]: Done  34 tasks      | elapsed: 87.1min\n",
      "[Parallel(n_jobs=-1)]: Done 100 out of 100 | elapsed: 209.7min finished\n",
      "[Parallel(n_jobs=-1)]: Using backend LokyBackend with 8 concurrent workers.\n",
      "[Parallel(n_jobs=-1)]: Done  34 tasks      | elapsed: 70.0min\n"
     ]
    },
    {
     "name": "stdout",
     "output_type": "stream",
     "text": [
      "Time = 405.37570828199387 minutes\n"
     ]
    },
    {
     "name": "stderr",
     "output_type": "stream",
     "text": [
      "[Parallel(n_jobs=-1)]: Done 100 out of 100 | elapsed: 195.7min finished\n"
     ]
    }
   ],
   "source": [
    "## Feature Selection\n",
    "\n",
    "from sklearn.pipeline import make_pipeline\n",
    "from sklearn.model_selection import train_test_split\n",
    "from sklearn.feature_selection import SelectFromModel\n",
    "from sklearn.feature_selection import SelectKBest\n",
    "from sklearn.feature_selection import f_classif\n",
    "from sklearn.metrics import confusion_matrix\n",
    "import time    \n",
    "from sklearn.model_selection import cross_validate\n",
    "from sklearn.model_selection import RepeatedStratifiedKFold\n",
    "\n",
    "pipe = make_pipeline( \n",
    "    SelectFromModel(best_lsvm_train.best_estimator_),\n",
    "    best_lsvm_train.best_estimator_\n",
    ")\n",
    "    \n",
    "t = time.time()\n",
    "\n",
    "cv = RepeatedStratifiedKFold(n_splits = 10, n_repeats = 10, random_state = 1)\n",
    "\n",
    "lsvm_corr_scores  = cross_validate(pipe, pearson_lower,  y_basc444, cv = cv, scoring = scoring, return_train_score = True, verbose = True, n_jobs = -1)\n",
    "lsvm_spear_scores = cross_validate(pipe, spearman_lower, y_basc444, cv = cv, scoring = scoring, return_train_score = True, verbose = True, n_jobs = -1)\n",
    "\n",
    "elapsed = time.time() - t\n",
    "print(\"Time = \" + str(elapsed/60) + \" minutes\")"
   ]
  },
  {
   "cell_type": "code",
   "execution_count": 29,
   "metadata": {},
   "outputs": [
    {
     "name": "stdout",
     "output_type": "stream",
     "text": [
      "Correlation:\n",
      "=================================\n",
      "corr_acc = 0.6896512539184954 std = 0.044116357861898645\n",
      "corr_sen = 0.6384085365853659 std = 0.0742747751886721\n",
      "corr_spe = 0.7336725254394081 std = 0.06660181537274533\n",
      "\n",
      "Spearman:\n",
      "=================================\n",
      "spear_acc = 0.7020559038662487 std = 0.04524300930539694\n",
      "spear_sen = 0.652060975609756 std = 0.07455797663451869\n",
      "spear_spe = 0.7449861239592971 std = 0.0677302173672148\n"
     ]
    }
   ],
   "source": [
    "import numpy as np\n",
    "\n",
    "lsvm_corr_acc = np.mean(lsvm_corr_scores['test_accuracy'])\n",
    "lsvm_corr_acc_std = np.std(lsvm_corr_scores['test_accuracy'])\n",
    "lsvm_corr_sen = np.mean(lsvm_corr_scores['test_sensitivity'])\n",
    "lsvm_corr_sen_std = np.std(lsvm_corr_scores['test_sensitivity'])\n",
    "lsvm_corr_spe = np.mean(lsvm_corr_scores['test_specificity'])\n",
    "lsvm_corr_spe_std = np.std(lsvm_corr_scores['test_specificity'])\n",
    "    \n",
    "lsvm_spear_acc = np.mean(lsvm_spear_scores['test_accuracy'])\n",
    "lsvm_spear_acc_std = np.std(lsvm_spear_scores['test_accuracy'])\n",
    "lsvm_spear_sen = np.mean(lsvm_spear_scores['test_sensitivity'])\n",
    "lsvm_spear_sen_std = np.std(lsvm_spear_scores['test_sensitivity'])\n",
    "lsvm_spear_spe = np.mean(lsvm_spear_scores['test_specificity'])\n",
    "lsvm_spear_spe_std = np.std(lsvm_spear_scores['test_specificity'])\n",
    "\n",
    "\n",
    "print(\"Correlation:\")\n",
    "print(\"=================================\")\n",
    "print(\"corr_acc = \" + str(lsvm_corr_acc) + \" std = \" + str(lsvm_corr_acc_std))\n",
    "print(\"corr_sen = \" + str(lsvm_corr_sen) + \" std = \" + str(lsvm_corr_sen_std))\n",
    "print(\"corr_spe = \" + str(lsvm_corr_spe) + \" std = \" + str(lsvm_corr_spe_std))\n",
    "\n",
    "print(\"\\nSpearman:\")\n",
    "print(\"=================================\")\n",
    "print(\"spear_acc = \" + str(lsvm_spear_acc) + \" std = \" + str(lsvm_spear_acc_std))\n",
    "print(\"spear_sen = \" + str(lsvm_spear_sen) + \" std = \" + str(lsvm_spear_sen_std))\n",
    "print(\"spear_spe = \" + str(lsvm_spear_spe) + \" std = \" + str(lsvm_spear_spe_std))\n"
   ]
  },
  {
   "cell_type": "markdown",
   "metadata": {},
   "source": [
    "## Feature Selection Recursive Feature Elimination. (linear SVM)"
   ]
  },
  {
   "cell_type": "code",
   "execution_count": 17,
   "metadata": {},
   "outputs": [
    {
     "name": "stderr",
     "output_type": "stream",
     "text": [
      "[Parallel(n_jobs=-1)]: Using backend LokyBackend with 8 concurrent workers.\n",
      "[Parallel(n_jobs=-1)]: Done  34 tasks      | elapsed: 269.1min\n",
      "[Parallel(n_jobs=-1)]: Done 100 out of 100 | elapsed: 706.2min finished\n",
      "[Parallel(n_jobs=-1)]: Using backend LokyBackend with 8 concurrent workers.\n",
      "[Parallel(n_jobs=-1)]: Done  34 tasks      | elapsed: 271.4min\n"
     ]
    },
    {
     "name": "stdout",
     "output_type": "stream",
     "text": [
      "Time = 1475.9961933175723 minutes\n"
     ]
    },
    {
     "name": "stderr",
     "output_type": "stream",
     "text": [
      "[Parallel(n_jobs=-1)]: Done 100 out of 100 | elapsed: 769.8min finished\n"
     ]
    }
   ],
   "source": [
    "## Feature Selection\n",
    "from sklearn.feature_selection import RFE\n",
    "from sklearn.pipeline import make_pipeline\n",
    "import time    \n",
    "from sklearn.model_selection import cross_validate\n",
    "from sklearn.model_selection import RepeatedStratifiedKFold\n",
    "\n",
    "pipe = make_pipeline( \n",
    "    #RFE(best_lsvm_train.best_estimator_, step = 0.1),\n",
    "    #best_lsvm_train.best_estimator_\n",
    "    \n",
    "    RFE(LinearSVC(C=10, random_state=0, tol=1e-05), step = 0.1),\n",
    "    LinearSVC(C=10, random_state=0, tol=1e-05)\n",
    ")\n",
    "    \n",
    "t = time.time()\n",
    "\n",
    "cv = RepeatedStratifiedKFold(n_splits = 10, n_repeats = 10, random_state = 1)\n",
    "\n",
    "lsvm_corr_scores_1  = cross_validate(pipe, pearson_lower,  y_basc444, cv = cv, scoring = scoring, return_train_score = True, verbose = True, n_jobs = -1)\n",
    "lsvm_spear_scores_1 = cross_validate(pipe, spearman_lower, y_basc444, cv = cv, scoring = scoring, return_train_score = True, verbose = True, n_jobs = -1)\n",
    "\n",
    "elapsed = time.time() - t\n",
    "print(\"Time = \" + str(elapsed/60) + \" minutes\")"
   ]
  },
  {
   "cell_type": "code",
   "execution_count": 19,
   "metadata": {},
   "outputs": [
    {
     "name": "stdout",
     "output_type": "stream",
     "text": [
      "Correlation:\n",
      "=================================\n",
      "corr_acc = 0.6903369905956113 std = 0.045203400414910264\n",
      "corr_sen = 0.6389207317073171 std = 0.07286930061241846\n",
      "corr_spe = 0.7345189639222943 std = 0.0644119523702747\n",
      "\n",
      "Spearman:\n",
      "=================================\n",
      "spear_acc = 0.70332157784744 std = 0.0451817240376329\n",
      "spear_sen = 0.6535853658536586 std = 0.07462384752791244\n",
      "spear_spe = 0.7460545790934322 std = 0.06727049752913697\n"
     ]
    }
   ],
   "source": [
    "import numpy as np\n",
    "\n",
    "lsvm_corr_acc_1 = np.mean(lsvm_corr_scores_1['test_accuracy'])\n",
    "lsvm_corr_acc_std_1 = np.std(lsvm_corr_scores_1['test_accuracy'])\n",
    "lsvm_corr_sen_1 = np.mean(lsvm_corr_scores_1['test_sensitivity'])\n",
    "lsvm_corr_sen_std_1 = np.std(lsvm_corr_scores_1['test_sensitivity'])\n",
    "lsvm_corr_spe_1 = np.mean(lsvm_corr_scores_1['test_specificity'])\n",
    "lsvm_corr_spe_std_1 = np.std(lsvm_corr_scores_1['test_specificity'])\n",
    "    \n",
    "lsvm_spear_acc_1 = np.mean(lsvm_spear_scores_1['test_accuracy'])\n",
    "lsvm_spear_acc_std_1 = np.std(lsvm_spear_scores_1['test_accuracy'])\n",
    "lsvm_spear_sen_1 = np.mean(lsvm_spear_scores_1['test_sensitivity'])\n",
    "lsvm_spear_sen_std_1 = np.std(lsvm_spear_scores_1['test_sensitivity'])\n",
    "lsvm_spear_spe_1 = np.mean(lsvm_spear_scores_1['test_specificity'])\n",
    "lsvm_spear_spe_std_1 = np.std(lsvm_spear_scores_1['test_specificity'])\n",
    "\n",
    "\n",
    "print(\"Correlation:\")\n",
    "print(\"=================================\")\n",
    "print(\"corr_acc = \" + str(lsvm_corr_acc_1) + \" std = \" + str(lsvm_corr_acc_std_1))\n",
    "print(\"corr_sen = \" + str(lsvm_corr_sen_1) + \" std = \" + str(lsvm_corr_sen_std_1))\n",
    "print(\"corr_spe = \" + str(lsvm_corr_spe_1) + \" std = \" + str(lsvm_corr_spe_std_1))\n",
    "\n",
    "print(\"\\nSpearman:\")\n",
    "print(\"=================================\")\n",
    "print(\"spear_acc = \" + str(lsvm_spear_acc_1) + \" std = \" + str(lsvm_spear_acc_std_1))\n",
    "print(\"spear_sen = \" + str(lsvm_spear_sen_1) + \" std = \" + str(lsvm_spear_sen_std_1))\n",
    "print(\"spear_spe = \" + str(lsvm_spear_spe_1) + \" std = \" + str(lsvm_spear_spe_std_1))\n"
   ]
  },
  {
   "cell_type": "code",
   "execution_count": 22,
   "metadata": {},
   "outputs": [
    {
     "data": {
      "text/plain": [
       "array([0.72727273, 0.79310345, 0.63218391, 0.68965517, 0.64367816,\n",
       "       0.68965517, 0.77011494, 0.70114943, 0.70114943, 0.63218391,\n",
       "       0.69318182, 0.6091954 , 0.73563218, 0.65517241, 0.68965517,\n",
       "       0.65517241, 0.67816092, 0.7816092 , 0.67816092, 0.64367816,\n",
       "       0.67045455, 0.66666667, 0.67816092, 0.68965517, 0.73563218,\n",
       "       0.71264368, 0.62068966, 0.67816092, 0.67816092, 0.67816092,\n",
       "       0.75      , 0.68965517, 0.71264368, 0.66666667, 0.63218391,\n",
       "       0.64367816, 0.7816092 , 0.72413793, 0.73563218, 0.68965517,\n",
       "       0.68181818, 0.63218391, 0.65517241, 0.71264368, 0.73563218,\n",
       "       0.62068966, 0.71264368, 0.74712644, 0.68965517, 0.77011494,\n",
       "       0.76136364, 0.71264368, 0.66666667, 0.5862069 , 0.66666667,\n",
       "       0.68965517, 0.70114943, 0.70114943, 0.68965517, 0.73563218,\n",
       "       0.71590909, 0.68965517, 0.68965517, 0.66666667, 0.72413793,\n",
       "       0.65517241, 0.66666667, 0.68965517, 0.75862069, 0.5862069 ,\n",
       "       0.64772727, 0.57471264, 0.73563218, 0.67816092, 0.65517241,\n",
       "       0.70114943, 0.67816092, 0.66666667, 0.71264368, 0.74712644,\n",
       "       0.71590909, 0.67816092, 0.70114943, 0.65517241, 0.8045977 ,\n",
       "       0.71264368, 0.74712644, 0.63218391, 0.73563218, 0.71264368,\n",
       "       0.70454545, 0.70114943, 0.70114943, 0.66666667, 0.6091954 ,\n",
       "       0.67816092, 0.68965517, 0.62068966, 0.73563218, 0.68965517])"
      ]
     },
     "execution_count": 22,
     "metadata": {},
     "output_type": "execute_result"
    }
   ],
   "source": [
    "lsvm_corr_scores_1['test_accuracy']"
   ]
  },
  {
   "cell_type": "code",
   "execution_count": 23,
   "metadata": {},
   "outputs": [
    {
     "data": {
      "text/plain": [
       "array([0.6097561 , 0.80487805, 0.56097561, 0.65      , 0.6       ,\n",
       "       0.65      , 0.775     , 0.65      , 0.65      , 0.55      ,\n",
       "       0.68292683, 0.53658537, 0.7804878 , 0.575     , 0.55      ,\n",
       "       0.65      , 0.575     , 0.725     , 0.65      , 0.5       ,\n",
       "       0.6097561 , 0.58536585, 0.65853659, 0.675     , 0.675     ,\n",
       "       0.725     , 0.575     , 0.575     , 0.45      , 0.625     ,\n",
       "       0.68292683, 0.68292683, 0.63414634, 0.6       , 0.6       ,\n",
       "       0.725     , 0.725     , 0.65      , 0.725     , 0.625     ,\n",
       "       0.65853659, 0.6097561 , 0.65853659, 0.55      , 0.6       ,\n",
       "       0.5       , 0.775     , 0.75      , 0.6       , 0.725     ,\n",
       "       0.65853659, 0.65853659, 0.63414634, 0.45      , 0.625     ,\n",
       "       0.675     , 0.6       , 0.7       , 0.6       , 0.75      ,\n",
       "       0.70731707, 0.68292683, 0.63414634, 0.65      , 0.725     ,\n",
       "       0.6       , 0.525     , 0.575     , 0.775     , 0.6       ,\n",
       "       0.53658537, 0.51219512, 0.73170732, 0.575     , 0.7       ,\n",
       "       0.65      , 0.525     , 0.7       , 0.675     , 0.65      ,\n",
       "       0.6097561 , 0.6097561 , 0.70731707, 0.7       , 0.725     ,\n",
       "       0.7       , 0.575     , 0.6       , 0.7       , 0.725     ,\n",
       "       0.56097561, 0.63414634, 0.68292683, 0.625     , 0.6       ,\n",
       "       0.625     , 0.7       , 0.575     , 0.65      , 0.55      ])"
      ]
     },
     "execution_count": 23,
     "metadata": {},
     "output_type": "execute_result"
    }
   ],
   "source": [
    "lsvm_corr_scores_1['test_sensitivity']"
   ]
  },
  {
   "cell_type": "code",
   "execution_count": 24,
   "metadata": {},
   "outputs": [
    {
     "data": {
      "text/plain": [
       "array([0.82978723, 0.7826087 , 0.69565217, 0.72340426, 0.68085106,\n",
       "       0.72340426, 0.76595745, 0.74468085, 0.74468085, 0.70212766,\n",
       "       0.70212766, 0.67391304, 0.69565217, 0.72340426, 0.80851064,\n",
       "       0.65957447, 0.76595745, 0.82978723, 0.70212766, 0.76595745,\n",
       "       0.72340426, 0.73913043, 0.69565217, 0.70212766, 0.78723404,\n",
       "       0.70212766, 0.65957447, 0.76595745, 0.87234043, 0.72340426,\n",
       "       0.80851064, 0.69565217, 0.7826087 , 0.72340426, 0.65957447,\n",
       "       0.57446809, 0.82978723, 0.78723404, 0.74468085, 0.74468085,\n",
       "       0.70212766, 0.65217391, 0.65217391, 0.85106383, 0.85106383,\n",
       "       0.72340426, 0.65957447, 0.74468085, 0.76595745, 0.80851064,\n",
       "       0.85106383, 0.76086957, 0.69565217, 0.70212766, 0.70212766,\n",
       "       0.70212766, 0.78723404, 0.70212766, 0.76595745, 0.72340426,\n",
       "       0.72340426, 0.69565217, 0.73913043, 0.68085106, 0.72340426,\n",
       "       0.70212766, 0.78723404, 0.78723404, 0.74468085, 0.57446809,\n",
       "       0.74468085, 0.63043478, 0.73913043, 0.76595745, 0.61702128,\n",
       "       0.74468085, 0.80851064, 0.63829787, 0.74468085, 0.82978723,\n",
       "       0.80851064, 0.73913043, 0.69565217, 0.61702128, 0.87234043,\n",
       "       0.72340426, 0.89361702, 0.65957447, 0.76595745, 0.70212766,\n",
       "       0.82978723, 0.76086957, 0.7173913 , 0.70212766, 0.61702128,\n",
       "       0.72340426, 0.68085106, 0.65957447, 0.80851064, 0.80851064])"
      ]
     },
     "execution_count": 24,
     "metadata": {},
     "output_type": "execute_result"
    }
   ],
   "source": [
    "lsvm_corr_scores_1['test_specificity']"
   ]
  },
  {
   "cell_type": "code",
   "execution_count": 29,
   "metadata": {},
   "outputs": [
    {
     "data": {
      "text/plain": [
       "array([0.71590909, 0.75862069, 0.70114943, 0.71264368, 0.64367816,\n",
       "       0.72413793, 0.77011494, 0.70114943, 0.74712644, 0.65517241,\n",
       "       0.72727273, 0.66666667, 0.74712644, 0.67816092, 0.68965517,\n",
       "       0.63218391, 0.66666667, 0.81609195, 0.72413793, 0.68965517,\n",
       "       0.63636364, 0.70114943, 0.70114943, 0.66666667, 0.75862069,\n",
       "       0.71264368, 0.64367816, 0.70114943, 0.66666667, 0.72413793,\n",
       "       0.77272727, 0.68965517, 0.68965517, 0.71264368, 0.66666667,\n",
       "       0.64367816, 0.79310345, 0.72413793, 0.77011494, 0.70114943,\n",
       "       0.67045455, 0.62068966, 0.66666667, 0.71264368, 0.72413793,\n",
       "       0.67816092, 0.75862069, 0.74712644, 0.72413793, 0.79310345,\n",
       "       0.73863636, 0.68965517, 0.74712644, 0.6091954 , 0.68965517,\n",
       "       0.64367816, 0.72413793, 0.72413793, 0.73563218, 0.71264368,\n",
       "       0.71590909, 0.72413793, 0.66666667, 0.63218391, 0.72413793,\n",
       "       0.70114943, 0.67816092, 0.63218391, 0.75862069, 0.6091954 ,\n",
       "       0.65909091, 0.5862069 , 0.75862069, 0.72413793, 0.68965517,\n",
       "       0.71264368, 0.65517241, 0.67816092, 0.73563218, 0.72413793,\n",
       "       0.70454545, 0.64367816, 0.68965517, 0.68965517, 0.77011494,\n",
       "       0.71264368, 0.77011494, 0.71264368, 0.74712644, 0.73563218,\n",
       "       0.76136364, 0.72413793, 0.68965517, 0.63218391, 0.64367816,\n",
       "       0.71264368, 0.75862069, 0.65517241, 0.73563218, 0.72413793])"
      ]
     },
     "execution_count": 29,
     "metadata": {},
     "output_type": "execute_result"
    }
   ],
   "source": [
    "lsvm_spear_scores_1['test_accuracy']"
   ]
  },
  {
   "cell_type": "code",
   "execution_count": 30,
   "metadata": {},
   "outputs": [
    {
     "data": {
      "text/plain": [
       "array([0.6097561 , 0.80487805, 0.58536585, 0.625     , 0.575     ,\n",
       "       0.7       , 0.775     , 0.6       , 0.7       , 0.55      ,\n",
       "       0.70731707, 0.58536585, 0.7804878 , 0.6       , 0.55      ,\n",
       "       0.65      , 0.625     , 0.75      , 0.625     , 0.6       ,\n",
       "       0.63414634, 0.63414634, 0.63414634, 0.625     , 0.65      ,\n",
       "       0.7       , 0.65      , 0.575     , 0.475     , 0.725     ,\n",
       "       0.70731707, 0.68292683, 0.6097561 , 0.625     , 0.6       ,\n",
       "       0.675     , 0.725     , 0.65      , 0.725     , 0.625     ,\n",
       "       0.65853659, 0.51219512, 0.68292683, 0.55      , 0.625     ,\n",
       "       0.55      , 0.8       , 0.725     , 0.725     , 0.725     ,\n",
       "       0.63414634, 0.65853659, 0.75609756, 0.475     , 0.65      ,\n",
       "       0.675     , 0.65      , 0.675     , 0.625     , 0.7       ,\n",
       "       0.70731707, 0.75609756, 0.56097561, 0.6       , 0.7       ,\n",
       "       0.7       , 0.6       , 0.575     , 0.75      , 0.6       ,\n",
       "       0.53658537, 0.53658537, 0.73170732, 0.6       , 0.8       ,\n",
       "       0.65      , 0.475     , 0.725     , 0.725     , 0.625     ,\n",
       "       0.6097561 , 0.56097561, 0.73170732, 0.8       , 0.7       ,\n",
       "       0.7       , 0.6       , 0.675     , 0.725     , 0.725     ,\n",
       "       0.65853659, 0.65853659, 0.73170732, 0.6       , 0.6       ,\n",
       "       0.65      , 0.775     , 0.65      , 0.7       , 0.575     ])"
      ]
     },
     "execution_count": 30,
     "metadata": {},
     "output_type": "execute_result"
    }
   ],
   "source": [
    "lsvm_spear_scores_1['test_sensitivity']"
   ]
  },
  {
   "cell_type": "code",
   "execution_count": 31,
   "metadata": {},
   "outputs": [
    {
     "data": {
      "text/plain": [
       "array([0.80851064, 0.7173913 , 0.80434783, 0.78723404, 0.70212766,\n",
       "       0.74468085, 0.76595745, 0.78723404, 0.78723404, 0.74468085,\n",
       "       0.74468085, 0.73913043, 0.7173913 , 0.74468085, 0.80851064,\n",
       "       0.61702128, 0.70212766, 0.87234043, 0.80851064, 0.76595745,\n",
       "       0.63829787, 0.76086957, 0.76086957, 0.70212766, 0.85106383,\n",
       "       0.72340426, 0.63829787, 0.80851064, 0.82978723, 0.72340426,\n",
       "       0.82978723, 0.69565217, 0.76086957, 0.78723404, 0.72340426,\n",
       "       0.61702128, 0.85106383, 0.78723404, 0.80851064, 0.76595745,\n",
       "       0.68085106, 0.7173913 , 0.65217391, 0.85106383, 0.80851064,\n",
       "       0.78723404, 0.72340426, 0.76595745, 0.72340426, 0.85106383,\n",
       "       0.82978723, 0.7173913 , 0.73913043, 0.72340426, 0.72340426,\n",
       "       0.61702128, 0.78723404, 0.76595745, 0.82978723, 0.72340426,\n",
       "       0.72340426, 0.69565217, 0.76086957, 0.65957447, 0.74468085,\n",
       "       0.70212766, 0.74468085, 0.68085106, 0.76595745, 0.61702128,\n",
       "       0.76595745, 0.63043478, 0.7826087 , 0.82978723, 0.59574468,\n",
       "       0.76595745, 0.80851064, 0.63829787, 0.74468085, 0.80851064,\n",
       "       0.78723404, 0.7173913 , 0.65217391, 0.59574468, 0.82978723,\n",
       "       0.72340426, 0.91489362, 0.74468085, 0.76595745, 0.74468085,\n",
       "       0.85106383, 0.7826087 , 0.65217391, 0.65957447, 0.68085106,\n",
       "       0.76595745, 0.74468085, 0.65957447, 0.76595745, 0.85106383])"
      ]
     },
     "execution_count": 31,
     "metadata": {},
     "output_type": "execute_result"
    }
   ],
   "source": [
    "lsvm_spear_scores_1['test_specificity']"
   ]
  },
  {
   "cell_type": "markdown",
   "metadata": {
    "id": "4XCTB4o9owmS"
   },
   "source": [
    "=========================================================\n",
    "# Kernal SVM\n",
    "========================================================="
   ]
  },
  {
   "cell_type": "code",
   "execution_count": 32,
   "metadata": {
    "id": "anxQ_hmdKObe"
   },
   "outputs": [
    {
     "name": "stdout",
     "output_type": "stream",
     "text": [
      "Fitting 5 folds for each of 4 candidates, totalling 20 fits\n"
     ]
    },
    {
     "name": "stderr",
     "output_type": "stream",
     "text": [
      "[Parallel(n_jobs=-1)]: Using backend LokyBackend with 8 concurrent workers.\n",
      "[Parallel(n_jobs=-1)]: Done  20 out of  20 | elapsed: 42.7min finished\n"
     ]
    }
   ],
   "source": [
    "from sklearn.model_selection import GridSearchCV\n",
    "gs_ksvm = GridSearchCV(ksvm_model, param_grid_ksvm, cv = 5, verbose=True, n_jobs=-1)\n",
    "best_ksvm_train = gs_ksvm.fit(pearson_lower, y_basc444)"
   ]
  },
  {
   "cell_type": "code",
   "execution_count": 33,
   "metadata": {},
   "outputs": [
    {
     "data": {
      "text/plain": [
       "SVC(C=3, probability=True)"
      ]
     },
     "execution_count": 33,
     "metadata": {},
     "output_type": "execute_result"
    }
   ],
   "source": [
    "best_ksvm_train.best_estimator_"
   ]
  },
  {
   "cell_type": "markdown",
   "metadata": {},
   "source": [
    "## Without Feature Selection (RBF kernal SVM)"
   ]
  },
  {
   "cell_type": "code",
   "execution_count": 20,
   "metadata": {},
   "outputs": [
    {
     "name": "stderr",
     "output_type": "stream",
     "text": [
      "[Parallel(n_jobs=-1)]: Using backend LokyBackend with 8 concurrent workers.\n",
      "[Parallel(n_jobs=-1)]: Done  34 tasks      | elapsed: 478.2min\n",
      "[Parallel(n_jobs=-1)]: Done 100 out of 100 | elapsed: 636.6min finished\n",
      "[Parallel(n_jobs=-1)]: Using backend LokyBackend with 8 concurrent workers.\n",
      "[Parallel(n_jobs=-1)]: Done  34 tasks      | elapsed: 100.4min\n"
     ]
    },
    {
     "name": "stdout",
     "output_type": "stream",
     "text": [
      "Time = 907.9705512682597 minutes\n"
     ]
    },
    {
     "name": "stderr",
     "output_type": "stream",
     "text": [
      "[Parallel(n_jobs=-1)]: Done 100 out of 100 | elapsed: 271.4min finished\n"
     ]
    }
   ],
   "source": [
    "## Without Feature Selection\n",
    "\n",
    "from sklearn.pipeline import make_pipeline\n",
    "from sklearn.model_selection import train_test_split\n",
    "from sklearn.feature_selection import SelectFromModel\n",
    "from sklearn.feature_selection import SelectKBest\n",
    "from sklearn.feature_selection import f_classif\n",
    "from sklearn.metrics import confusion_matrix\n",
    "import time    \n",
    "from sklearn.model_selection import cross_validate\n",
    "from sklearn.model_selection import RepeatedStratifiedKFold\n",
    "    \n",
    "pipe = make_pipeline( \n",
    "    best_ksvm_train.best_estimator_\n",
    ")\n",
    "    \n",
    "t = time.time()\n",
    "\n",
    "cv = RepeatedStratifiedKFold(n_splits = 10, n_repeats = 10, random_state = 1)\n",
    "\n",
    "ksvm_corr_scores_0  = cross_validate(pipe, pearson_lower,  y_basc444, cv = cv, scoring = scoring, return_train_score = True, verbose = True, n_jobs = -1)\n",
    "ksvm_spear_scores_0 = cross_validate(pipe, spearman_lower, y_basc444, cv = cv, scoring = scoring, return_train_score = True, verbose = True, n_jobs = -1)\n",
    "\n",
    "elapsed = time.time() - t\n",
    "print(\"Time = \" + str(elapsed/60) + \" minutes\")"
   ]
  },
  {
   "cell_type": "code",
   "execution_count": 24,
   "metadata": {},
   "outputs": [
    {
     "name": "stdout",
     "output_type": "stream",
     "text": [
      "Correlation:\n",
      "=================================\n",
      "corr_acc = 0.6735553814002089 std = 0.048818488462254506\n",
      "corr_sen = 0.6053780487804877 std = 0.07947442148537015\n",
      "corr_spe = 0.7321739130434785 std = 0.07232723203502549\n",
      "\n",
      "Spearman:\n",
      "=================================\n",
      "spear_acc = 0.6710462382445143 std = 0.04654402891042204\n",
      "spear_sen = 0.6026524390243901 std = 0.07611707140250153\n",
      "spear_spe = 0.7298057354301575 std = 0.07037242155792159\n"
     ]
    }
   ],
   "source": [
    "import numpy as np\n",
    "\n",
    "ksvm_corr_acc_0 = np.mean(ksvm_corr_scores_0['test_accuracy'])\n",
    "ksvm_corr_acc_std_0 = np.std(ksvm_corr_scores_0['test_accuracy'])\n",
    "ksvm_corr_sen_0 = np.mean(ksvm_corr_scores_0['test_sensitivity'])\n",
    "ksvm_corr_sen_std_0 = np.std(ksvm_corr_scores_0['test_sensitivity'])\n",
    "ksvm_corr_spe_0 = np.mean(ksvm_corr_scores_0['test_specificity'])\n",
    "ksvm_corr_spe_std_0 = np.std(ksvm_corr_scores_0['test_specificity'])\n",
    "    \n",
    "ksvm_spear_acc_0 = np.mean(ksvm_spear_scores_0['test_accuracy'])\n",
    "ksvm_spear_acc_std_0 = np.std(ksvm_spear_scores_0['test_accuracy'])\n",
    "ksvm_spear_sen_0 = np.mean(ksvm_spear_scores_0['test_sensitivity'])\n",
    "ksvm_spear_sen_std_0 = np.std(ksvm_spear_scores_0['test_sensitivity'])\n",
    "ksvm_spear_spe_0 = np.mean(ksvm_spear_scores_0['test_specificity'])\n",
    "ksvm_spear_spe_std_0 = np.std(ksvm_spear_scores_0['test_specificity'])\n",
    "\n",
    "\n",
    "print(\"Correlation:\")\n",
    "print(\"=================================\")\n",
    "print(\"corr_acc = \" + str(ksvm_corr_acc_0) + \" std = \" + str(ksvm_corr_acc_std_0))\n",
    "print(\"corr_sen = \" + str(ksvm_corr_sen_0) + \" std = \" + str(ksvm_corr_sen_std_0))\n",
    "print(\"corr_spe = \" + str(ksvm_corr_spe_0) + \" std = \" + str(ksvm_corr_spe_std_0))\n",
    "\n",
    "print(\"\\nSpearman:\")\n",
    "print(\"=================================\")\n",
    "print(\"spear_acc = \" + str(ksvm_spear_acc_0) + \" std = \" + str(ksvm_spear_acc_std_0))\n",
    "print(\"spear_sen = \" + str(ksvm_spear_sen_0) + \" std = \" + str(ksvm_spear_sen_std_0))\n",
    "print(\"spear_spe = \" + str(ksvm_spear_spe_0) + \" std = \" + str(ksvm_spear_spe_std_0))\n"
   ]
  },
  {
   "cell_type": "markdown",
   "metadata": {
    "id": "-9wVAhK4owmV"
   },
   "source": [
    "# Summary Results"
   ]
  },
  {
   "cell_type": "code",
   "execution_count": null,
   "metadata": {
    "id": "CpgFyxHDowmV"
   },
   "outputs": [],
   "source": [
    "from IPython.display import HTML, display\n",
    "\n",
    "test=[[\"\",\"\",\"Correlation\",\"\",\"Spearman\",\"\"],\n",
    "      \n",
    "      [\"Classifier\",\"Sensitivity\",\"Specificity\", \"Accuracy\",\\\n",
    "       \"Sensitivity\",\"Specificity\", \"Accuracy\"],\n",
    "      \n",
    "      [\"LR\",lr_corr_acc_0,lr_corr_spe_0,lr_corr_sen_0,\\\n",
    "       lr_spear_acc_0,lr_spear_spe_0,lr_spear_sen_0\n",
    "      ],\n",
    "      \n",
    "      [\"lSVM\",lsvm_corr_acc_0,lsvm_corr_spe_0,lsvm_corr_sen_0,\\\n",
    "       lsvm_spear_acc_0,lsvm_spear_spe_0,lsvm_spear_sen_0\n",
    "      ],\n",
    "      \n",
    "      [\"kSVM\",ksvm_corr_acc_0,ksvm_corr_spe_0,ksvm_corr_sen_0,\\\n",
    "       ksvm_spear_acc_0,ksvm_spear_spe_0,ksvm_spear_sen_0\n",
    "      ]\n",
    "     ]\n",
    "\n",
    "print(\"Test:\")\n",
    "print(\"===========================================================================================\")\n",
    "display(HTML(\n",
    "   '<table><tr>{}</tr></table>'.format(\n",
    "       '</tr><tr>'.join(\n",
    "           '<td>{}</td>'.format('</td><td>'.join(str(_) for _ in row)) for row in test))\n",
    "))"
   ]
  },
  {
   "cell_type": "code",
   "execution_count": null,
   "metadata": {
    "id": "ijY4LC8AowmX"
   },
   "outputs": [],
   "source": []
  }
 ],
 "metadata": {
  "accelerator": "TPU",
  "colab": {
   "collapsed_sections": [],
   "machine_shape": "hm",
   "name": "ABIDE_fMRI_BASC197_FeatureSelection_Correlation_GS.ipynb",
   "provenance": []
  },
  "kernelspec": {
   "display_name": "Python 3",
   "language": "python",
   "name": "python3"
  },
  "language_info": {
   "codemirror_mode": {
    "name": "ipython",
    "version": 3
   },
   "file_extension": ".py",
   "mimetype": "text/x-python",
   "name": "python",
   "nbconvert_exporter": "python",
   "pygments_lexer": "ipython3",
   "version": "3.8.5"
  }
 },
 "nbformat": 4,
 "nbformat_minor": 1
}
