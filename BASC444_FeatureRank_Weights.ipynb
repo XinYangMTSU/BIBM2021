{
 "cells": [
  {
   "cell_type": "code",
   "execution_count": 1,
   "metadata": {
    "id": "7KZ5UjWwowmF"
   },
   "outputs": [],
   "source": [
    "import warnings\n",
    "warnings.filterwarnings(\"ignore\")"
   ]
  },
  {
   "cell_type": "code",
   "execution_count": 2,
   "metadata": {
    "colab": {
     "base_uri": "https://localhost:8080/"
    },
    "id": "YOSwlnBsG9c0",
    "outputId": "e1196da4-d3c5-4629-98ca-77c58c325b67"
   },
   "outputs": [],
   "source": [
    "#from google.colab import drive\n",
    "#drive.mount('/content/drive')"
   ]
  },
  {
   "cell_type": "code",
   "execution_count": 3,
   "metadata": {
    "id": "baJkCyJeG9c1"
   },
   "outputs": [],
   "source": [
    "#import sys\n",
    "#sys.path.insert(0,'/content/drive/My Drive/AStudyOfASDClassification')"
   ]
  },
  {
   "cell_type": "markdown",
   "metadata": {
    "id": "yzcNYeC5xWfJ"
   },
   "source": []
  },
  {
   "cell_type": "code",
   "execution_count": 4,
   "metadata": {
    "id": "yaYrnodYowmK"
   },
   "outputs": [],
   "source": [
    "from sklearn.metrics import make_scorer\n",
    "from sklearn.metrics import accuracy_score, recall_score\n",
    "scoring = {\n",
    "    'accuracy':    make_scorer(accuracy_score),\n",
    "    'sensitivity': make_scorer(recall_score),\n",
    "    'specificity': make_scorer(recall_score,pos_label=0)\n",
    "}"
   ]
  },
  {
   "cell_type": "markdown",
   "metadata": {
    "id": "laobYyXgX41E"
   },
   "source": [
    "# Load Dataset"
   ]
  },
  {
   "cell_type": "code",
   "execution_count": 5,
   "metadata": {
    "id": "tH3cXwgm2fYM"
   },
   "outputs": [],
   "source": [
    "from numpy import loadtxt\n",
    "y_basc444 = loadtxt('Y.csv', delimiter=' ')"
   ]
  },
  {
   "cell_type": "code",
   "execution_count": 6,
   "metadata": {},
   "outputs": [],
   "source": [
    "import numpy as np\n",
    "time_series_basc444 = np.load('BASC444.npy', allow_pickle=True)"
   ]
  },
  {
   "cell_type": "markdown",
   "metadata": {
    "id": "6L1SWErYowmP"
   },
   "source": [
    "====================================================================\n",
    "## Calculate Pearson and Spearman Connectivity\n",
    "===================================================================="
   ]
  },
  {
   "cell_type": "code",
   "execution_count": 7,
   "metadata": {},
   "outputs": [
    {
     "name": "stdout",
     "output_type": "stream",
     "text": [
      "(871, 444, 444)\n",
      "(871, 444, 444)\n"
     ]
    }
   ],
   "source": [
    "pearson_connectivity = np.zeros((len(time_series_basc444),time_series_basc444[0].shape[1], time_series_basc444[0].shape[1]))\n",
    "spearman_connectivity = np.zeros((len(time_series_basc444),time_series_basc444[0].shape[1], time_series_basc444[0].shape[1]))\n",
    "\n",
    "print(pearson_connectivity.shape)\n",
    "print(spearman_connectivity.shape)"
   ]
  },
  {
   "cell_type": "code",
   "execution_count": 8,
   "metadata": {},
   "outputs": [
    {
     "data": {
      "text/plain": [
       "(444, 196)"
      ]
     },
     "execution_count": 8,
     "metadata": {},
     "output_type": "execute_result"
    }
   ],
   "source": [
    "time_series_basc444[0].T.shape"
   ]
  },
  {
   "cell_type": "code",
   "execution_count": 9,
   "metadata": {},
   "outputs": [],
   "source": [
    "from nilearn.connectome import cov_to_corr\n",
    "import scipy.stats as stats\n",
    "\n",
    "for i in range(len(time_series_basc444)):\n",
    "     cov = np.cov(time_series_basc444[i].T)\n",
    "     pearson_connectivity[i,:,:] = cov_to_corr(cov)\n",
    "     rho, pvalue = stats.spearmanr(time_series_basc444[i])\n",
    "     spearman_connectivity[i,:,:] = rho"
   ]
  },
  {
   "cell_type": "code",
   "execution_count": 10,
   "metadata": {},
   "outputs": [
    {
     "name": "stdout",
     "output_type": "stream",
     "text": [
      "(871, 98346)\n",
      "(871, 98346)\n",
      "(871, 196692)\n"
     ]
    }
   ],
   "source": [
    "pearson_lower = np.zeros((len(time_series_basc444),(444*444-444)//2))\n",
    "spearman_lower = np.zeros((len(time_series_basc444),(444*444-444)//2))\n",
    "combine_lower = np.zeros((len(time_series_basc444),pearson_lower.shape[1]+spearman_lower.shape[1]))\n",
    "print(pearson_lower.shape)\n",
    "print(spearman_lower.shape)\n",
    "print(combine_lower.shape)                         "
   ]
  },
  {
   "cell_type": "code",
   "execution_count": 11,
   "metadata": {},
   "outputs": [],
   "source": [
    "for i in range(pearson_connectivity.shape[0]):\n",
    "    \n",
    "    temp = pearson_connectivity[i,:,:]\n",
    "    v = temp[np.triu_indices(temp.shape[0], k = 1)] \n",
    "    pearson_lower[i,:] = v\n",
    "    \n",
    "    temp = spearman_connectivity[i,:,:]\n",
    "    v = temp[np.triu_indices(temp.shape[0], k = 1)] \n",
    "    spearman_lower[i,:] = v\n",
    "    \n",
    "    combine_lower[i,:] = np.concatenate((pearson_lower[i,:],spearman_lower[i,:]),axis=0)"
   ]
  },
  {
   "cell_type": "code",
   "execution_count": 12,
   "metadata": {},
   "outputs": [
    {
     "name": "stdout",
     "output_type": "stream",
     "text": [
      "True\n",
      "True\n",
      "True\n",
      "False\n",
      "False\n",
      "False\n"
     ]
    }
   ],
   "source": [
    "print(np.isnan(pearson_lower).any())\n",
    "print(np.isnan(spearman_lower).any())\n",
    "print(np.isnan(combine_lower).any())\n",
    "\n",
    "where_are_NaNs = np.isnan(pearson_lower)\n",
    "pearson_lower[where_are_NaNs] = 0\n",
    "\n",
    "where_are_NaNs = np.isnan(spearman_lower)\n",
    "spearman_lower[where_are_NaNs] = 0\n",
    "\n",
    "where_are_NaNs = np.isnan(combine_lower)\n",
    "combine_lower[where_are_NaNs] = 0\n",
    "\n",
    "print(np.isnan(pearson_lower).any())\n",
    "print(np.isnan(spearman_lower).any())\n",
    "print(np.isnan(combine_lower).any())\n"
   ]
  },
  {
   "cell_type": "code",
   "execution_count": 13,
   "metadata": {},
   "outputs": [],
   "source": [
    "pearson_lower_z = np.arctanh(pearson_lower)\n",
    "spearman_lower_z = np.arctanh(spearman_lower)"
   ]
  },
  {
   "cell_type": "markdown",
   "metadata": {},
   "source": [
    "## ================================\n",
    "## 1. Logistic Regression\n",
    "## ================================"
   ]
  },
  {
   "cell_type": "code",
   "execution_count": 37,
   "metadata": {},
   "outputs": [
    {
     "name": "stdout",
     "output_type": "stream",
     "text": [
      "Fitting 5 folds for each of 5 candidates, totalling 25 fits\n"
     ]
    },
    {
     "name": "stderr",
     "output_type": "stream",
     "text": [
      "[Parallel(n_jobs=-1)]: Using backend LokyBackend with 8 concurrent workers.\n",
      "[Parallel(n_jobs=-1)]: Done  25 out of  25 | elapsed:  5.9min finished\n"
     ]
    }
   ],
   "source": [
    "from sklearn.model_selection import GridSearchCV\n",
    "gs_lr = GridSearchCV(lr_model, param_grid_lr, cv = 5, verbose = True, n_jobs=-1)\n",
    "best_lr_train = gs_lr.fit(pearson_lower, y_basc444)"
   ]
  },
  {
   "cell_type": "code",
   "execution_count": 38,
   "metadata": {},
   "outputs": [
    {
     "data": {
      "text/plain": [
       "LogisticRegression(C=0.01, solver='liblinear')"
      ]
     },
     "execution_count": 38,
     "metadata": {},
     "output_type": "execute_result"
    }
   ],
   "source": [
    "best_lr_train.best_estimator_"
   ]
  },
  {
   "cell_type": "code",
   "execution_count": 80,
   "metadata": {},
   "outputs": [
    {
     "name": "stderr",
     "output_type": "stream",
     "text": [
      "[Parallel(n_jobs=-1)]: Using backend LokyBackend with 8 concurrent workers.\n",
      "[Parallel(n_jobs=-1)]: Done   6 out of  10 | elapsed:  9.0min remaining:  6.0min\n"
     ]
    },
    {
     "name": "stdout",
     "output_type": "stream",
     "text": [
      "RFE + lr classification accuracy: 0.6900\n"
     ]
    },
    {
     "name": "stderr",
     "output_type": "stream",
     "text": [
      "[Parallel(n_jobs=-1)]: Done  10 out of  10 | elapsed: 10.6min finished\n"
     ]
    }
   ],
   "source": [
    "from sklearn.pipeline import Pipeline\n",
    "from sklearn.model_selection import cross_validate\n",
    "from sklearn.model_selection import cross_val_score\n",
    "from sklearn.feature_selection import RFE\n",
    "from sklearn.linear_model import LogisticRegression\n",
    "cv = 10\n",
    "rfe_lr = RFE(LogisticRegression(C=0.01, solver='liblinear'), step = 0.1)\n",
    "rfe_lr_pipe = Pipeline([('rfe', rfe_lr), ('lr', LogisticRegression(C=0.01, solver='liblinear'))])\n",
    "\n",
    "# Recompute the cross-validation score\n",
    "cv_scores_lr = cross_val_score(rfe_lr_pipe, pearson_lower, y_basc444, cv = cv, n_jobs=-1, verbose=1)\n",
    "classification_accuracy_lr = np.mean(cv_scores_lr)\n",
    "print(\"RFE + lr classification accuracy: %.4f\" % (classification_accuracy_lr))\n",
    "# But, be aware that this can take * A WHILE * ..."
   ]
  },
  {
   "cell_type": "code",
   "execution_count": null,
   "metadata": {},
   "outputs": [],
   "source": [
    "# cv = 10\n",
    "# step = 0.25\n",
    "# half\n",
    "# 0.6923"
   ]
  },
  {
   "cell_type": "code",
   "execution_count": null,
   "metadata": {},
   "outputs": [],
   "source": [
    "## 5000  ==> \n",
    "## 10000 ==> 0.6314\n",
    "## 15000 ==> 0.6418\n",
    "## 20000 ==> 0.6441\n",
    "## 25000 ==> 0.6429\n",
    "## 30000 ==> 0.6464\n",
    "## 35000 ==> 0.6498\n",
    "## 40000 ==> 0.6406\n",
    "## 45000 ==> 0.6429\n",
    "## 50000 ==> 0.6441\n",
    "## 55000 ==> 0.6452\n",
    "## 60000 ==> 0.6452\n",
    "## 65000 ==> 0.6452\n",
    "## 70000 ==> 0.6452\n",
    "## 75000 ==> 0.6452\n",
    "## 80000 ==> 0.6452\n",
    "## 85000 ==> 0.6452\n",
    "## 90000 ==> 0.6452\n",
    "## 95000 ==> 0.6452"
   ]
  },
  {
   "cell_type": "code",
   "execution_count": 82,
   "metadata": {},
   "outputs": [],
   "source": [
    "lr_pipeline = cross_validate(rfe_lr_pipe, pearson_lower, y_basc444,\n",
    "                                 cv=cv,  return_estimator = True)"
   ]
  },
  {
   "cell_type": "code",
   "execution_count": 95,
   "metadata": {},
   "outputs": [
    {
     "name": "stdout",
     "output_type": "stream",
     "text": [
      "After feature selection, the SVC is trained only on 49173 features\n",
      "After inverting feature selection, we have 98346 features back\n"
     ]
    }
   ],
   "source": [
    "# retrieve the pipeline fitted on the first cross-validation fold and its SVC\n",
    "# coefficients\n",
    "lr_pipe = lr_pipeline[\"estimator\"][0]\n",
    "lr_coef = lr_pipe.named_steps['lr'].coef_\n",
    "print(\"After feature selection, the SVC is trained only on {} features\".format(\n",
    "    lr_coef.shape[1]))\n",
    "\n",
    "# We invert the feature selection step to put these coefs in the right 2D place\n",
    "full_coef_lr = lr_pipe.named_steps['rfe'].inverse_transform(lr_coef)\n",
    "\n",
    "print(\"After inverting feature selection, we have {} features back\".format(full_coef_lr.shape[1]))"
   ]
  },
  {
   "cell_type": "code",
   "execution_count": 126,
   "metadata": {},
   "outputs": [
    {
     "name": "stdout",
     "output_type": "stream",
     "text": [
      "[NiftiLabelsMasker.inverse_transform] computing image from signals\n"
     ]
    },
    {
     "data": {
      "text/plain": [
       "<nilearn.plotting.displays.OrthoSlicer at 0x7fc43ef335e0>"
      ]
     },
     "execution_count": 126,
     "metadata": {},
     "output_type": "execute_result"
    },
    {
     "data": {
      "image/png": "[encoded data removed]",
      "text/plain": [
       "<Figure size 525.6x187.2 with 5 Axes>"
      ]
     },
     "metadata": {},
     "output_type": "display_data"
    }
   ],
   "source": [
    "# We apply the inverse of masking on these to make a 4D image that we can plot\n",
    "from nilearn.plotting import plot_stat_map\n",
    "weight_img_lr = masker.inverse_transform(full_coef_lr)\n",
    "plot_stat_map(weight_img_lr, title='RFE+LR weights')"
   ]
  },
  {
   "cell_type": "code",
   "execution_count": 84,
   "metadata": {
    "scrolled": true
   },
   "outputs": [
    {
     "data": {
      "text/plain": [
       "(1, 49173)"
      ]
     },
     "execution_count": 84,
     "metadata": {},
     "output_type": "execute_result"
    }
   ],
   "source": [
    "lr_coef.shape"
   ]
  },
  {
   "cell_type": "code",
   "execution_count": 86,
   "metadata": {},
   "outputs": [
    {
     "data": {
      "text/plain": [
       "array([[ 0.00415024, -0.00343216, -0.00481431, ...,  0.00664225,\n",
       "        -0.00406406,  0.00699472]])"
      ]
     },
     "execution_count": 86,
     "metadata": {},
     "output_type": "execute_result"
    }
   ],
   "source": [
    "lr_coef"
   ]
  },
  {
   "cell_type": "code",
   "execution_count": 85,
   "metadata": {},
   "outputs": [
    {
     "data": {
      "text/plain": [
       "(1, 98346)"
      ]
     },
     "execution_count": 85,
     "metadata": {},
     "output_type": "execute_result"
    }
   ],
   "source": [
    "full_coef_lr.shape"
   ]
  },
  {
   "cell_type": "code",
   "execution_count": 88,
   "metadata": {},
   "outputs": [],
   "source": [
    "# import datasets module and use `fetch_atlas_basc_multiscale_2015` function\n",
    "from nilearn import datasets\n",
    "parcellations = datasets.fetch_atlas_basc_multiscale_2015(version='sym')"
   ]
  },
  {
   "cell_type": "code",
   "execution_count": 122,
   "metadata": {},
   "outputs": [],
   "source": [
    "networks_444 = parcellations['scale444']"
   ]
  },
  {
   "cell_type": "code",
   "execution_count": 123,
   "metadata": {},
   "outputs": [
    {
     "data": {
      "image/png": "[encoded data removed]",
      "text/plain": [
       "<Figure size 475.2x187.2 with 4 Axes>"
      ]
     },
     "metadata": {},
     "output_type": "display_data"
    }
   ],
   "source": [
    "# import plotting module and use `plot_roi` function, since the maps are in 3D\n",
    "from nilearn import plotting\n",
    "\n",
    "# The coordinates of all plots are selected automatically by itself\n",
    "# We manually change the colormap of our choice\n",
    "plotting.plot_roi(networks_444, cmap=plotting.cm.bwr_r,\n",
    "                  title='444 regions of brain clusters')\n",
    "\n",
    "plotting.show()"
   ]
  },
  {
   "cell_type": "code",
   "execution_count": 124,
   "metadata": {},
   "outputs": [],
   "source": [
    "from nilearn.input_data import NiftiLabelsMasker\n",
    "masker = NiftiLabelsMasker(networks_444,\n",
    "                           memory='nilearn_cache',\n",
    "                           memory_level=1,\n",
    "                           smoothing_fwhm=6,\n",
    "                           detrend=True,\n",
    "                           verbose=1)"
   ]
  },
  {
   "cell_type": "code",
   "execution_count": 125,
   "metadata": {},
   "outputs": [
    {
     "name": "stdout",
     "output_type": "stream",
     "text": [
      "[NiftiLabelsMasker.fit_transform] loading data from /Users/xyang/nilearn_data/basc_multiscale_2015/template_cambridge_basc_multiscale_nii_sym/template_cambridge_basc_multiscale_sym_scale444.nii.gz\n",
      "Resampling labels\n"
     ]
    }
   ],
   "source": [
    "fmri_masked = masker.fit_transform('Caltech_0051461_func_preproc.nii.gz')"
   ]
  },
  {
   "cell_type": "markdown",
   "metadata": {},
   "source": [
    "## Linear SVM"
   ]
  },
  {
   "cell_type": "code",
   "execution_count": 128,
   "metadata": {},
   "outputs": [
    {
     "data": {
      "text/plain": [
       "LinearSVC(C=10, random_state=0, tol=1e-05)"
      ]
     },
     "execution_count": 128,
     "metadata": {},
     "output_type": "execute_result"
    }
   ],
   "source": [
    "from sklearn.svm import LinearSVC\n",
    "LinearSVC(C=10, random_state=0, tol=1e-05)"
   ]
  },
  {
   "cell_type": "code",
   "execution_count": 129,
   "metadata": {},
   "outputs": [
    {
     "name": "stderr",
     "output_type": "stream",
     "text": [
      "[Parallel(n_jobs=-1)]: Using backend LokyBackend with 8 concurrent workers.\n",
      "[Parallel(n_jobs=-1)]: Done   6 out of  10 | elapsed: 64.5min remaining: 43.0min\n"
     ]
    },
    {
     "name": "stdout",
     "output_type": "stream",
     "text": [
      "RFE + lSVM classification accuracy: 0.6716\n"
     ]
    },
    {
     "name": "stderr",
     "output_type": "stream",
     "text": [
      "[Parallel(n_jobs=-1)]: Done  10 out of  10 | elapsed: 79.6min finished\n"
     ]
    }
   ],
   "source": [
    "# Import it and define your fancy objects\n",
    "from sklearn.feature_selection import RFE\n",
    "\n",
    "cv = 10\n",
    "\n",
    "rfe_svc = RFE(LinearSVC(C=10, random_state=0, tol=1e-05),  step=0.1)\n",
    "rfe = RFE(LinearSVC(C=10, random_state=0, tol=1e-05), step=0.25)\n",
    "\n",
    "# Create a new pipeline, composing the two classifiers `rfe` and `svc`\n",
    "rfe_svc_pipe = Pipeline([('rfe', rfe_svc), ('svc', LinearSVC(C=10, random_state=0, tol=1e-05))])\n",
    "\n",
    "# Recompute the cross-validation score\n",
    "cv_scores_svc = cross_val_score(rfe_svc_pipe, pearson_lower, y_basc444, cv=cv, n_jobs=-1, verbose=1)\n",
    "classification_accuracy_svc = np.mean(cv_scores_svc)\n",
    "\n",
    "print(\"RFE + lSVM classification accuracy: %.4f\" % (classification_accuracy_svc))\n",
    "# But, be aware that this can take * A WHILE * ..."
   ]
  },
  {
   "cell_type": "code",
   "execution_count": 130,
   "metadata": {},
   "outputs": [],
   "source": [
    "svc_pipeline = cross_validate(rfe_svc_pipe, pearson_lower, y_basc444,\n",
    "                                 cv=cv,  return_estimator=True)"
   ]
  },
  {
   "cell_type": "code",
   "execution_count": 131,
   "metadata": {},
   "outputs": [
    {
     "name": "stdout",
     "output_type": "stream",
     "text": [
      "After feature selection, the SVC is trained only on 49173 features\n",
      "After inverting feature selection, we have 98346 features back\n",
      "[NiftiLabelsMasker.inverse_transform] computing image from signals\n"
     ]
    },
    {
     "data": {
      "text/plain": [
       "<nilearn.plotting.displays.OrthoSlicer at 0x7fc3690e1a60>"
      ]
     },
     "execution_count": 131,
     "metadata": {},
     "output_type": "execute_result"
    },
    {
     "data": {
      "image/png": "[encoded data removed]",
      "text/plain": [
       "<Figure size 525.6x187.2 with 5 Axes>"
      ]
     },
     "metadata": {},
     "output_type": "display_data"
    }
   ],
   "source": [
    "# retrieve the pipeline fitted on the first cross-validation fold and its SVC\n",
    "# coefficients\n",
    "rfe_pipe = svc_pipeline[\"estimator\"][0]\n",
    "svc_coef = rfe_pipe.named_steps['svc'].coef_\n",
    "print(\"After feature selection, the SVC is trained only on {} features\".format(\n",
    "    svc_coef.shape[1]))\n",
    "\n",
    "# We invert the feature selection step to put these coefs in the right 2D place\n",
    "full_coef_svc = rfe_pipe.named_steps['rfe'].inverse_transform(svc_coef)\n",
    "\n",
    "print(\"After inverting feature selection, we have {} features back\".format(\n",
    "    full_coef_svc.shape[1]))\n",
    "\n",
    "# We apply the inverse of masking on these to make a 4D image that we can plot\n",
    "from nilearn.plotting import plot_stat_map\n",
    "weight_img_svc = masker.inverse_transform(full_coef_svc)\n",
    "plot_stat_map(weight_img_svc, title='RFE+SVC weights')"
   ]
  },
  {
   "cell_type": "code",
   "execution_count": 218,
   "metadata": {},
   "outputs": [],
   "source": [
    "lsvm_top_five_weights = []\n",
    "lr_top_five_weights = []\n",
    "\n",
    "temp_coef_svc = abs(full_coef_svc)\n",
    "temp_coef_lr = abs(full_coef_lr)\n",
    "\n",
    "for i in range(5):\n",
    "    idx_lsvm = np.where(temp_coef_svc[0] == np.max(temp_coef_svc[0]))\n",
    "    lsvm_top_five_weights.append(int(idx_lsvm[0]))\n",
    "    temp_coef_svc[0][idx_lsvm] = 0\n",
    "    \n",
    "    idx_lr = np.where(temp_coef_lr[0] == np.max(temp_coef_lr[0]))\n",
    "    lr_top_five_weights.append(int(idx_lr[0]))\n",
    "    temp_coef_lr[0][idx_lr] = 0"
   ]
  },
  {
   "cell_type": "code",
   "execution_count": 222,
   "metadata": {},
   "outputs": [
    {
     "data": {
      "text/plain": [
       "[71206, 18960, 94903, 44203, 18240]"
      ]
     },
     "execution_count": 222,
     "metadata": {},
     "output_type": "execute_result"
    }
   ],
   "source": [
    "lsvm_top_five_weights"
   ]
  },
  {
   "cell_type": "code",
   "execution_count": 223,
   "metadata": {},
   "outputs": [
    {
     "data": {
      "text/plain": [
       "[69718, 17248, 18240, 71206, 71098]"
      ]
     },
     "execution_count": 223,
     "metadata": {},
     "output_type": "execute_result"
    }
   ],
   "source": [
    "lr_top_five_weights"
   ]
  },
  {
   "cell_type": "markdown",
   "metadata": {},
   "source": [
    "====================================================================\n",
    "##  Find the index for the top 5 regions\n",
    "===================================================================="
   ]
  },
  {
   "cell_type": "code",
   "execution_count": 224,
   "metadata": {},
   "outputs": [
    {
     "name": "stdout",
     "output_type": "stream",
     "text": [
      "(444, 444)\n",
      "(98346,)\n"
     ]
    },
    {
     "data": {
      "text/plain": [
       "(array([  0,   0,   0, ..., 441, 441, 442]),\n",
       " array([  1,   2,   3, ..., 442, 443, 443]))"
      ]
     },
     "execution_count": 224,
     "metadata": {},
     "output_type": "execute_result"
    }
   ],
   "source": [
    "te = cov_to_corr(np.cov(time_series_basc444[0].T))\n",
    "print(te.shape)\n",
    "re = te[np.triu_indices(te.shape[0], k = 1)] \n",
    "print(re.shape)\n",
    "np.triu_indices(te.shape[0], k = 1)"
   ]
  },
  {
   "cell_type": "code",
   "execution_count": 225,
   "metadata": {},
   "outputs": [
    {
     "name": "stdout",
     "output_type": "stream",
     "text": [
      "40 349\n",
      "43 138\n",
      "204 257\n",
      "210 224\n",
      "210 332\n"
     ]
    }
   ],
   "source": [
    "## Five Features select using logistric regression with RFE\n",
    "for i in range(full_coef_lr.shape[1]):\n",
    "    for j in range(len(lr_top_five_weights)):\n",
    "        if i == lr_top_five_weights[j]:\n",
    "            print(str(np.triu_indices(te.shape[0], k = 1)[0][i]) + ' ' + str(np.triu_indices(te.shape[1], k = 1)[1][i]))"
   ]
  },
  {
   "cell_type": "code",
   "execution_count": 227,
   "metadata": {},
   "outputs": [
    {
     "name": "stdout",
     "output_type": "stream",
     "text": [
      "43 138\n",
      "45 61\n",
      "114 257\n",
      "210 332\n",
      "360 404\n"
     ]
    }
   ],
   "source": [
    "## Five Features select using logistric regression with RFE\n",
    "for i in range(full_coef_svc.shape[1]):\n",
    "    for j in range(len(lsvm_top_five_weights)):\n",
    "        if i == lsvm_top_five_weights[j]:\n",
    "            print(str(np.triu_indices(te.shape[0], k = 1)[0][i]) + ' ' + str(np.triu_indices(te.shape[1], k = 1)[1][i]))"
   ]
  },
  {
   "cell_type": "markdown",
   "metadata": {},
   "source": [
    "====================================================================\n",
    "## 5. Find parcellation cut coords\n",
    "===================================================================="
   ]
  },
  {
   "cell_type": "code",
   "execution_count": 229,
   "metadata": {},
   "outputs": [],
   "source": [
    "from nilearn import plotting\n",
    "coords, labels_list = plotting.find_parcellation_cut_coords(networks_444,return_label_names = True)"
   ]
  },
  {
   "cell_type": "code",
   "execution_count": 230,
   "metadata": {},
   "outputs": [
    {
     "data": {
      "text/plain": [
       "(444, 3)"
      ]
     },
     "execution_count": 230,
     "metadata": {},
     "output_type": "execute_result"
    }
   ],
   "source": [
    "coords.shape"
   ]
  },
  {
   "cell_type": "markdown",
   "metadata": {},
   "source": [
    "====================================================================\n",
    "## 6. Use MRIcron to select coordinates\n",
    "===================================================================="
   ]
  },
  {
   "cell_type": "markdown",
   "metadata": {},
   "source": [
    "## Top Five Features select using logistric regression with RFE\n",
    "40 349 <br>\n",
    "43 138 <Br>\n",
    "204 257 <br>\n",
    "210 224 <br>\n",
    "210 332 <br>"
   ]
  },
  {
   "cell_type": "code",
   "execution_count": 293,
   "metadata": {},
   "outputs": [
    {
     "name": "stdout",
     "output_type": "stream",
     "text": [
      "Region 40 : [-5, 34, -22] = Rectus_L (Frontal Medial Cortex)\n",
      "Region 349 : [-63, -35, -12] = Temporal_Mid_L (Middle Temporal Gyrus)\n"
     ]
    }
   ],
   "source": [
    "## 1\n",
    "\n",
    "idx1 = 40\n",
    "idx2 = 349\n",
    "\n",
    "ROI1 = [round(a) for a in coords[idx1]]\n",
    "ROI2 = [round(a) for a in coords[idx2]]\n",
    "\n",
    "print(\"Region \" + str(idx1) + \" : \" + str(ROI1) + \" = Rectus_L (Frontal Medial Cortex)\")\n",
    "print(\"Region \" + str(idx2) + \" : \" + str(ROI2) + \" = Temporal_Mid_L (Middle Temporal Gyrus)\")"
   ]
  },
  {
   "cell_type": "code",
   "execution_count": 294,
   "metadata": {},
   "outputs": [
    {
     "name": "stdout",
     "output_type": "stream",
     "text": [
      "Region 43 : [-55, -51, 43] = Parietal_Inf_L (Supramarginal Gyrus)\n",
      "Region 138 : [40, 19, 26] = Frontal_Inf_Tri_R (Middle Frontal Gyrus))\n"
     ]
    }
   ],
   "source": [
    "## 2\n",
    "\n",
    "idx1 = 43\n",
    "idx2 = 138\n",
    "\n",
    "ROI1 = [round(a) for a in coords[idx1]]\n",
    "ROI2 = [round(a) for a in coords[idx2]]\n",
    "\n",
    "print(\"Region \" + str(idx1) + \" : \" + str(ROI1) + \" = Parietal_Inf_L (Supramarginal Gyrus)\")\n",
    "print(\"Region \" + str(idx2) + \" : \" + str(ROI2) + \" = Frontal_Inf_Tri_R (Middle Frontal Gyrus))\")"
   ]
  },
  {
   "cell_type": "code",
   "execution_count": 295,
   "metadata": {},
   "outputs": [
    {
     "name": "stdout",
     "output_type": "stream",
     "text": [
      "Region 204 : [-9, 52, 13] = Frontal_Sup_Medial_L (Paracingulate Gyrus)\n",
      "Region 257 : [-10, 64, -4] = Frontal_Med_Orb_L (Frontal Pole)\n"
     ]
    }
   ],
   "source": [
    "## 3\n",
    "\n",
    "idx1 = 204\n",
    "idx2 = 257\n",
    "\n",
    "ROI1 = [round(a) for a in coords[idx1]]\n",
    "ROI2 = [round(a) for a in coords[idx2]]\n",
    "\n",
    "print(\"Region \" + str(idx1) + \" : \" + str(ROI1) + \" = Frontal_Sup_Medial_L (Paracingulate Gyrus)\")\n",
    "print(\"Region \" + str(idx2) + \" : \" + str(ROI2) + \" = Frontal_Med_Orb_L (Frontal Pole)\")"
   ]
  },
  {
   "cell_type": "code",
   "execution_count": 296,
   "metadata": {},
   "outputs": [
    {
     "name": "stdout",
     "output_type": "stream",
     "text": [
      "Region 210 : [-42, -78, 34] = Occipital_Mid_L (Lateral Occipital Cortex)\n",
      "Region 224 : [46, -61, 28] = Angular_R (Lateral Occipital Cortex)\n"
     ]
    }
   ],
   "source": [
    "## 4\n",
    "\n",
    "idx1 = 210\n",
    "idx2 = 224\n",
    "\n",
    "ROI1 = [round(a) for a in coords[idx1]]\n",
    "ROI2 = [round(a) for a in coords[idx2]]\n",
    "\n",
    "print(\"Region \" + str(idx1) + \" : \" + str(ROI1) + \" = Occipital_Mid_L (Lateral Occipital Cortex)\")\n",
    "print(\"Region \" + str(idx2) + \" : \" + str(ROI2) + \" = Angular_R (Lateral Occipital Cortex)\")"
   ]
  },
  {
   "cell_type": "code",
   "execution_count": 297,
   "metadata": {},
   "outputs": [
    {
     "name": "stdout",
     "output_type": "stream",
     "text": [
      "Region 210 : [-42, -78, 34] = Occipital_Mid_L (Lateral Occipital Cortex)\n",
      "Region 332 : [64, -34, -1] = Temporal_Mid_R (Middle Temporal Gyrus)\n"
     ]
    }
   ],
   "source": [
    "## 5\n",
    "\n",
    "idx1 = 210\n",
    "idx2 = 332\n",
    "\n",
    "ROI1 = [round(a) for a in coords[idx1]]\n",
    "ROI2 = [round(a) for a in coords[idx2]]\n",
    "\n",
    "print(\"Region \" + str(idx1) + \" : \" + str(ROI1) + \" = Occipital_Mid_L (Lateral Occipital Cortex)\")\n",
    "print(\"Region \" + str(idx2) + \" : \" + str(ROI2) + \" = Temporal_Mid_R (Middle Temporal Gyrus)\")"
   ]
  },
  {
   "cell_type": "markdown",
   "metadata": {},
   "source": [
    "## Top Five Features select using linear SVM with RFE\n",
    "\n",
    "43 138 <br>\n",
    "45 61 <br>\n",
    "114 257 <br>\n",
    "210 332 <br>\n",
    "360 404 <br>"
   ]
  },
  {
   "cell_type": "code",
   "execution_count": 298,
   "metadata": {},
   "outputs": [
    {
     "name": "stdout",
     "output_type": "stream",
     "text": [
      "Region 43 : [-55, -51, 43] = Parietal_Inf_L (Supramarginal Gyrus)\n",
      "Region 138 : [40, 19, 26] = Frontal_Inf_Tri_R (Middle Frontal Gyrus)\n"
     ]
    }
   ],
   "source": [
    "## 1\n",
    "\n",
    "idx1 = 43\n",
    "idx2 = 138\n",
    "\n",
    "ROI1 = [round(a) for a in coords[idx1]]\n",
    "ROI2 = [round(a) for a in coords[idx2]]\n",
    "\n",
    "print(\"Region \" + str(idx1) + \" : \" + str(ROI1) + \" = Parietal_Inf_L (Supramarginal Gyrus)\")\n",
    "print(\"Region \" + str(idx2) + \" : \" + str(ROI2) + \" = Frontal_Inf_Tri_R (Middle Frontal Gyrus)\")"
   ]
  },
  {
   "cell_type": "code",
   "execution_count": 299,
   "metadata": {},
   "outputs": [
    {
     "name": "stdout",
     "output_type": "stream",
     "text": [
      "Region 45 : [-40, -54, -53] = Cerebelum_B_L\n",
      "Region 61 : [-56, -4, -28] = Temporal_Inf_L (Middle Temporal Gyrus)\n"
     ]
    }
   ],
   "source": [
    "## 2\n",
    "\n",
    "idx1 = 45\n",
    "idx2 = 61\n",
    "\n",
    "ROI1 = [round(a) for a in coords[idx1]]\n",
    "ROI2 = [round(a) for a in coords[idx2]]\n",
    "\n",
    "print(\"Region \" + str(idx1) + \" : \" + str(ROI1) + \" = Cerebelum_B_L\")\n",
    "print(\"Region \" + str(idx2) + \" : \" + str(ROI2) + \" = Temporal_Inf_L (Middle Temporal Gyrus)\")"
   ]
  },
  {
   "cell_type": "code",
   "execution_count": 300,
   "metadata": {},
   "outputs": [
    {
     "name": "stdout",
     "output_type": "stream",
     "text": [
      "Region 114 : [-9, 65, 12] = Frontal_Sup_Medial_L (Frontal Pole)\n",
      "Region 257 : [-10, 64, -4] = Frontal_Med_Orb_L (Frontal Pole)\n"
     ]
    }
   ],
   "source": [
    "## 3\n",
    "\n",
    "idx1 = 114\n",
    "idx2 = 257\n",
    "\n",
    "ROI1 = [round(a) for a in coords[idx1]]\n",
    "ROI2 = [round(a) for a in coords[idx2]]\n",
    "\n",
    "print(\"Region \" + str(idx1) + \" : \" + str(ROI1) + \" = Frontal_Sup_Medial_L (Frontal Pole)\")\n",
    "print(\"Region \" + str(idx2) + \" : \" + str(ROI2) + \" = Frontal_Med_Orb_L (Frontal Pole)\")"
   ]
  },
  {
   "cell_type": "code",
   "execution_count": 301,
   "metadata": {},
   "outputs": [
    {
     "name": "stdout",
     "output_type": "stream",
     "text": [
      "Region 210 : [-42, -78, 34] = Occipital_Mid_L (Lateral Occipital Cortex)\n",
      "Region 332 : [64, -34, -1] = Temporal_Mid_R (Middle Temporal Gyrus)\n"
     ]
    }
   ],
   "source": [
    "## 4\n",
    "\n",
    "idx1 = 210\n",
    "idx2 = 332\n",
    "\n",
    "ROI1 = [round(a) for a in coords[idx1]]\n",
    "ROI2 = [round(a) for a in coords[idx2]]\n",
    "\n",
    "print(\"Region \" + str(idx1) + \" : \" + str(ROI1) + \" = Occipital_Mid_L (Lateral Occipital Cortex)\")\n",
    "print(\"Region \" + str(idx2) + \" : \" + str(ROI2) + \" = Temporal_Mid_R (Middle Temporal Gyrus)\")"
   ]
  },
  {
   "cell_type": "code",
   "execution_count": 302,
   "metadata": {},
   "outputs": [
    {
     "name": "stdout",
     "output_type": "stream",
     "text": [
      "Region 360 : [38, 41, -19] = Frontal_Inf_Orb_R (Frontal Pole)\n",
      "Region 404 : [-25, -6, -31] = ParaHippocampal_L (Parahippocampal Gyrus)\n"
     ]
    }
   ],
   "source": [
    "## 5\n",
    "\n",
    "idx1 = 360\n",
    "idx2 = 404\n",
    "\n",
    "ROI1 = [round(a) for a in coords[idx1]]\n",
    "ROI2 = [round(a) for a in coords[idx2]]\n",
    "\n",
    "print(\"Region \" + str(idx1) + \" : \" + str(ROI1) + \" = Frontal_Inf_Orb_R (Frontal Pole)\")\n",
    "print(\"Region \" + str(idx2) + \" : \" + str(ROI2) + \" = ParaHippocampal_L (Parahippocampal Gyrus)\")"
   ]
  },
  {
   "cell_type": "code",
   "execution_count": null,
   "metadata": {},
   "outputs": [],
   "source": []
  },
  {
   "cell_type": "code",
   "execution_count": null,
   "metadata": {},
   "outputs": [],
   "source": []
  },
  {
   "cell_type": "code",
   "execution_count": null,
   "metadata": {},
   "outputs": [],
   "source": []
  },
  {
   "cell_type": "code",
   "execution_count": null,
   "metadata": {},
   "outputs": [],
   "source": []
  },
  {
   "cell_type": "code",
   "execution_count": null,
   "metadata": {},
   "outputs": [],
   "source": []
  },
  {
   "cell_type": "code",
   "execution_count": null,
   "metadata": {},
   "outputs": [],
   "source": []
  },
  {
   "cell_type": "code",
   "execution_count": null,
   "metadata": {},
   "outputs": [],
   "source": []
  },
  {
   "cell_type": "code",
   "execution_count": null,
   "metadata": {},
   "outputs": [],
   "source": []
  },
  {
   "cell_type": "code",
   "execution_count": null,
   "metadata": {},
   "outputs": [],
   "source": []
  },
  {
   "cell_type": "code",
   "execution_count": null,
   "metadata": {},
   "outputs": [],
   "source": []
  }
 ],
 "metadata": {
  "accelerator": "TPU",
  "colab": {
   "collapsed_sections": [],
   "machine_shape": "hm",
   "name": "ABIDE_fMRI_BASC197_FeatureSelection_Correlation_GS.ipynb",
   "provenance": []
  },
  "kernelspec": {
   "display_name": "Python 3",
   "language": "python",
   "name": "python3"
  },
  "language_info": {
   "codemirror_mode": {
    "name": "ipython",
    "version": 3
   },
   "file_extension": ".py",
   "mimetype": "text/x-python",
   "name": "python",
   "nbconvert_exporter": "python",
   "pygments_lexer": "ipython3",
   "version": "3.8.5"
  }
 },
 "nbformat": 4,
 "nbformat_minor": 1
}
